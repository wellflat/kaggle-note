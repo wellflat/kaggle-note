{
 "cells": [
  {
   "cell_type": "code",
   "execution_count": 1,
   "metadata": {},
   "outputs": [],
   "source": [
    "import numpy as np\n",
    "import pandas as pd\n",
    "from sklearn.ensemble import RandomForestRegressor\n",
    "from sklearn.pipeline import Pipeline,make_pipeline\n",
    "from sklearn.ensemble import RandomForestClassifier\n",
    "from sklearn.feature_selection import SelectKBest\n",
    "from sklearn import model_selection\n",
    "from sklearn.model_selection import GridSearchCV\n",
    "import matplotlib.pyplot as plt\n",
    "import seaborn as sns\n",
    "from xgboost import XGBClassifier\n",
    "import warnings\n",
    "warnings.filterwarnings('ignore')"
   ]
  },
  {
   "cell_type": "code",
   "execution_count": 106,
   "metadata": {},
   "outputs": [
    {
     "name": "stdout",
     "output_type": "stream",
     "text": [
      "10692 4598\n",
      "PassengerId       0\n",
      "Survived        418\n",
      "Pclass            0\n",
      "Name              0\n",
      "Sex               0\n",
      "Age             263\n",
      "SibSp             0\n",
      "Parch             0\n",
      "Ticket            0\n",
      "Fare              1\n",
      "Cabin          1014\n",
      "Embarked          2\n",
      "dtype: int64\n"
     ]
    }
   ],
   "source": [
    "train= pd.read_csv(\"train.csv\")\n",
    "test= pd.read_csv(\"test.csv\")\n",
    "dataset = pd.concat([train, test], ignore_index = True)\n",
    "passenger_id = test['PassengerId']\n",
    "print(train.size, test.size)\n",
    "print(dataset.isnull().sum())"
   ]
  },
  {
   "cell_type": "code",
   "execution_count": 88,
   "metadata": {},
   "outputs": [
    {
     "data": {
      "text/html": [
       "<div>\n",
       "<style scoped>\n",
       "    .dataframe tbody tr th:only-of-type {\n",
       "        vertical-align: middle;\n",
       "    }\n",
       "\n",
       "    .dataframe tbody tr th {\n",
       "        vertical-align: top;\n",
       "    }\n",
       "\n",
       "    .dataframe thead th {\n",
       "        text-align: right;\n",
       "    }\n",
       "</style>\n",
       "<table border=\"1\" class=\"dataframe\">\n",
       "  <thead>\n",
       "    <tr style=\"text-align: right;\">\n",
       "      <th></th>\n",
       "      <th>PassengerId</th>\n",
       "      <th>Survived</th>\n",
       "      <th>Pclass</th>\n",
       "      <th>Age</th>\n",
       "      <th>SibSp</th>\n",
       "      <th>Parch</th>\n",
       "      <th>Fare</th>\n",
       "    </tr>\n",
       "  </thead>\n",
       "  <tbody>\n",
       "    <tr>\n",
       "      <th>count</th>\n",
       "      <td>1309.000000</td>\n",
       "      <td>891.000000</td>\n",
       "      <td>1309.000000</td>\n",
       "      <td>1046.000000</td>\n",
       "      <td>1309.000000</td>\n",
       "      <td>1309.000000</td>\n",
       "      <td>1308.000000</td>\n",
       "    </tr>\n",
       "    <tr>\n",
       "      <th>mean</th>\n",
       "      <td>655.000000</td>\n",
       "      <td>0.383838</td>\n",
       "      <td>2.294882</td>\n",
       "      <td>29.881138</td>\n",
       "      <td>0.498854</td>\n",
       "      <td>0.385027</td>\n",
       "      <td>33.295479</td>\n",
       "    </tr>\n",
       "    <tr>\n",
       "      <th>std</th>\n",
       "      <td>378.020061</td>\n",
       "      <td>0.486592</td>\n",
       "      <td>0.837836</td>\n",
       "      <td>14.413493</td>\n",
       "      <td>1.041658</td>\n",
       "      <td>0.865560</td>\n",
       "      <td>51.758668</td>\n",
       "    </tr>\n",
       "    <tr>\n",
       "      <th>min</th>\n",
       "      <td>1.000000</td>\n",
       "      <td>0.000000</td>\n",
       "      <td>1.000000</td>\n",
       "      <td>0.170000</td>\n",
       "      <td>0.000000</td>\n",
       "      <td>0.000000</td>\n",
       "      <td>0.000000</td>\n",
       "    </tr>\n",
       "    <tr>\n",
       "      <th>25%</th>\n",
       "      <td>328.000000</td>\n",
       "      <td>0.000000</td>\n",
       "      <td>2.000000</td>\n",
       "      <td>21.000000</td>\n",
       "      <td>0.000000</td>\n",
       "      <td>0.000000</td>\n",
       "      <td>7.895800</td>\n",
       "    </tr>\n",
       "    <tr>\n",
       "      <th>50%</th>\n",
       "      <td>655.000000</td>\n",
       "      <td>0.000000</td>\n",
       "      <td>3.000000</td>\n",
       "      <td>28.000000</td>\n",
       "      <td>0.000000</td>\n",
       "      <td>0.000000</td>\n",
       "      <td>14.454200</td>\n",
       "    </tr>\n",
       "    <tr>\n",
       "      <th>75%</th>\n",
       "      <td>982.000000</td>\n",
       "      <td>1.000000</td>\n",
       "      <td>3.000000</td>\n",
       "      <td>39.000000</td>\n",
       "      <td>1.000000</td>\n",
       "      <td>0.000000</td>\n",
       "      <td>31.275000</td>\n",
       "    </tr>\n",
       "    <tr>\n",
       "      <th>max</th>\n",
       "      <td>1309.000000</td>\n",
       "      <td>1.000000</td>\n",
       "      <td>3.000000</td>\n",
       "      <td>80.000000</td>\n",
       "      <td>8.000000</td>\n",
       "      <td>9.000000</td>\n",
       "      <td>512.329200</td>\n",
       "    </tr>\n",
       "  </tbody>\n",
       "</table>\n",
       "</div>"
      ],
      "text/plain": [
       "       PassengerId    Survived       Pclass          Age        SibSp  \\\n",
       "count  1309.000000  891.000000  1309.000000  1046.000000  1309.000000   \n",
       "mean    655.000000    0.383838     2.294882    29.881138     0.498854   \n",
       "std     378.020061    0.486592     0.837836    14.413493     1.041658   \n",
       "min       1.000000    0.000000     1.000000     0.170000     0.000000   \n",
       "25%     328.000000    0.000000     2.000000    21.000000     0.000000   \n",
       "50%     655.000000    0.000000     3.000000    28.000000     0.000000   \n",
       "75%     982.000000    1.000000     3.000000    39.000000     1.000000   \n",
       "max    1309.000000    1.000000     3.000000    80.000000     8.000000   \n",
       "\n",
       "             Parch         Fare  \n",
       "count  1309.000000  1308.000000  \n",
       "mean      0.385027    33.295479  \n",
       "std       0.865560    51.758668  \n",
       "min       0.000000     0.000000  \n",
       "25%       0.000000     7.895800  \n",
       "50%       0.000000    14.454200  \n",
       "75%       0.000000    31.275000  \n",
       "max       9.000000   512.329200  "
      ]
     },
     "execution_count": 88,
     "metadata": {},
     "output_type": "execute_result"
    }
   ],
   "source": [
    "dataset.describe()"
   ]
  },
  {
   "cell_type": "code",
   "execution_count": 107,
   "metadata": {},
   "outputs": [],
   "source": [
    "# 欠損値を埋める\n",
    "fare_median=dataset[(dataset['Embarked'] == \"S\") & (dataset['Pclass'] == 3)].Fare.median()\n",
    "dataset['Fare'] = dataset['Fare'].fillna(fare_median)\n",
    "dataset[\"Embarked\"].fillna(\"C\", inplace=True)\n",
    "dataset['Cabin'] = dataset['Cabin'].fillna('Unknown') # 客室データが欠損している場合はUnknownを代入\n",
    "dataset['Deck'] = dataset['Cabin'].str.get(0) #Cabin（部屋番号）の頭文字（０番目の文字）取得"
   ]
  },
  {
   "cell_type": "code",
   "execution_count": 108,
   "metadata": {},
   "outputs": [
    {
     "data": {
      "text/html": [
       "<div>\n",
       "<style scoped>\n",
       "    .dataframe tbody tr th:only-of-type {\n",
       "        vertical-align: middle;\n",
       "    }\n",
       "\n",
       "    .dataframe tbody tr th {\n",
       "        vertical-align: top;\n",
       "    }\n",
       "\n",
       "    .dataframe thead th {\n",
       "        text-align: right;\n",
       "    }\n",
       "</style>\n",
       "<table border=\"1\" class=\"dataframe\">\n",
       "  <thead>\n",
       "    <tr style=\"text-align: right;\">\n",
       "      <th></th>\n",
       "      <th>Farebin</th>\n",
       "      <th>Survived</th>\n",
       "    </tr>\n",
       "  </thead>\n",
       "  <tbody>\n",
       "    <tr>\n",
       "      <th>0</th>\n",
       "      <td>(-0.512, 102.466]</td>\n",
       "      <td>0.361575</td>\n",
       "    </tr>\n",
       "    <tr>\n",
       "      <th>1</th>\n",
       "      <td>(102.466, 204.932]</td>\n",
       "      <td>0.757576</td>\n",
       "    </tr>\n",
       "    <tr>\n",
       "      <th>2</th>\n",
       "      <td>(204.932, 307.398]</td>\n",
       "      <td>0.647059</td>\n",
       "    </tr>\n",
       "    <tr>\n",
       "      <th>3</th>\n",
       "      <td>(307.398, 409.863]</td>\n",
       "      <td>NaN</td>\n",
       "    </tr>\n",
       "    <tr>\n",
       "      <th>4</th>\n",
       "      <td>(409.863, 512.329]</td>\n",
       "      <td>1.000000</td>\n",
       "    </tr>\n",
       "  </tbody>\n",
       "</table>\n",
       "</div>"
      ],
      "text/plain": [
       "              Farebin  Survived\n",
       "0   (-0.512, 102.466]  0.361575\n",
       "1  (102.466, 204.932]  0.757576\n",
       "2  (204.932, 307.398]  0.647059\n",
       "3  (307.398, 409.863]       NaN\n",
       "4  (409.863, 512.329]  1.000000"
      ]
     },
     "execution_count": 108,
     "metadata": {},
     "output_type": "execute_result"
    }
   ],
   "source": [
    "dataset['Farebin']=pd.cut(dataset['Fare'], 5)\n",
    "dataset[['Farebin','Survived']].groupby(['Farebin'],as_index=False).mean()"
   ]
  },
  {
   "cell_type": "code",
   "execution_count": 109,
   "metadata": {},
   "outputs": [],
   "source": [
    "# Fareをbinning\n",
    "dataset.loc[dataset['Fare']<102.0,'Fare'] = 0\n",
    "dataset.loc[(dataset['Fare']>102.0) & (dataset['Fare']<204),'Fare'] = 1\n",
    "dataset.loc[(dataset['Fare']>204.0) & (dataset['Fare']<307),'Fare'] = 2\n",
    "dataset.loc[dataset['Fare']>307.0, 'Fare'] = 3"
   ]
  },
  {
   "cell_type": "code",
   "execution_count": 110,
   "metadata": {},
   "outputs": [],
   "source": [
    "# encoding\n",
    "dataset['Embarked']=dataset['Embarked'].map({'S':1,'C':2,'Q':3})\n",
    "dataset['Sex']=dataset['Sex'].map({'male':0,'female':1})"
   ]
  },
  {
   "cell_type": "code",
   "execution_count": 92,
   "metadata": {},
   "outputs": [
    {
     "name": "stdout",
     "output_type": "stream",
     "text": [
      "females: 0.74\n",
      "males: 0.19\n"
     ]
    },
    {
     "data": {
      "image/png": "[encoded data removed]",
      "text/plain": [
       "<Figure size 432x288 with 1 Axes>"
      ]
     },
     "metadata": {
      "needs_background": "light"
     },
     "output_type": "display_data"
    }
   ],
   "source": [
    "# 年齢と生存率のグラフ\n",
    "sns.barplot(x=\"Sex\", y=\"Survived\", data=train, palette='Set3')\n",
    "\n",
    "# 性別ごとの生存率\n",
    "print(\"females: %.2f\" %(train['Survived'][train['Sex'] == 'female'].value_counts(normalize = True)[1]))\n",
    "print(\"males: %.2f\" %(train['Survived'][train['Sex'] == 'male'].value_counts(normalize = True)[1]))\n"
   ]
  },
  {
   "cell_type": "code",
   "execution_count": 38,
   "metadata": {},
   "outputs": [
    {
     "name": "stdout",
     "output_type": "stream",
     "text": [
      "Pclass = 1 : 0.63\n",
      "Pclass = 2 : 0.47\n",
      "Pclass = 3 : 0.24\n"
     ]
    },
    {
     "data": {
      "image/png": "[encoded data removed]",
      "text/plain": [
       "<Figure size 432x288 with 1 Axes>"
      ]
     },
     "metadata": {
      "needs_background": "light"
     },
     "output_type": "display_data"
    }
   ],
   "source": [
    "sns.barplot(x='Pclass', y='Survived', data=train, palette='Set3')\n",
    "\n",
    "# チケットクラスごとの生存率\n",
    "print(\"Pclass = 1 : %.2f\" %(train['Survived'][train['Pclass']==1].value_counts(normalize = True)[1]))\n",
    "print(\"Pclass = 2 : %.2f\" %(train['Survived'][train['Pclass']==2].value_counts(normalize = True)[1]))\n",
    "print(\"Pclass = 3 : %.2f\" %(train['Survived'][train['Pclass']==3].value_counts(normalize = True)[1]))"
   ]
  },
  {
   "cell_type": "code",
   "execution_count": 111,
   "metadata": {},
   "outputs": [
    {
     "data": {
      "text/plain": [
       "<AxesSubplot:xlabel='Title', ylabel='Survived'>"
      ]
     },
     "execution_count": 111,
     "metadata": {},
     "output_type": "execute_result"
    },
    {
     "data": {
      "image/png": "[encoded data removed]",
      "text/plain": [
       "<Figure size 432x288 with 1 Axes>"
      ]
     },
     "metadata": {
      "needs_background": "light"
     },
     "output_type": "display_data"
    }
   ],
   "source": [
    "# 'Title'(敬称)による特徴別に分ける\n",
    "dataset['Title'] = dataset['Name'].apply(lambda x:x.split(',')[1].split('.')[0].strip()) #敬称(','と'.'の間の単語)を抽出\n",
    "\n",
    "# 敬称をグループ分け\n",
    "# 例：'Capt', 'Col', 'Major', 'Dr', 'Rev'は'Officer'とする\n",
    "honorifics_dict = {}\n",
    "honorifics_dict.update(dict.fromkeys(['Capt', 'Col', 'Major', 'Dr', 'Rev'], 'Officer'))\n",
    "honorifics_dict.update(dict.fromkeys(['Don', 'Sir', 'the Countess', 'Dona', 'Lady'], 'Royalty'))\n",
    "honorifics_dict.update(dict.fromkeys(['Mme', 'Ms', 'Mrs'], 'Mrs'))\n",
    "honorifics_dict.update(dict.fromkeys(['Mlle', 'Miss'], 'Miss'))\n",
    "honorifics_dict.update(dict.fromkeys(['Mr'], 'Mr'))\n",
    "honorifics_dict.update(dict.fromkeys(['Master','Jonkheer'], 'Master'))\n",
    "dataset['Title'] = dataset['Title'].map(honorifics_dict)\n",
    "sns.barplot(x='Title', y='Survived', data=dataset, palette='Set3')\n"
   ]
  },
  {
   "cell_type": "code",
   "execution_count": 112,
   "metadata": {},
   "outputs": [
    {
     "data": {
      "text/html": [
       "<div>\n",
       "<style scoped>\n",
       "    .dataframe tbody tr th:only-of-type {\n",
       "        vertical-align: middle;\n",
       "    }\n",
       "\n",
       "    .dataframe tbody tr th {\n",
       "        vertical-align: top;\n",
       "    }\n",
       "\n",
       "    .dataframe thead th {\n",
       "        text-align: right;\n",
       "    }\n",
       "</style>\n",
       "<table border=\"1\" class=\"dataframe\">\n",
       "  <thead>\n",
       "    <tr style=\"text-align: right;\">\n",
       "      <th>Survived</th>\n",
       "      <th>0.0</th>\n",
       "      <th>1.0</th>\n",
       "    </tr>\n",
       "    <tr>\n",
       "      <th>Title</th>\n",
       "      <th></th>\n",
       "      <th></th>\n",
       "    </tr>\n",
       "  </thead>\n",
       "  <tbody>\n",
       "    <tr>\n",
       "      <th>Master</th>\n",
       "      <td>18</td>\n",
       "      <td>23</td>\n",
       "    </tr>\n",
       "    <tr>\n",
       "      <th>Miss</th>\n",
       "      <td>55</td>\n",
       "      <td>129</td>\n",
       "    </tr>\n",
       "    <tr>\n",
       "      <th>Mr</th>\n",
       "      <td>436</td>\n",
       "      <td>81</td>\n",
       "    </tr>\n",
       "    <tr>\n",
       "      <th>Mrs</th>\n",
       "      <td>26</td>\n",
       "      <td>101</td>\n",
       "    </tr>\n",
       "    <tr>\n",
       "      <th>Officer</th>\n",
       "      <td>13</td>\n",
       "      <td>5</td>\n",
       "    </tr>\n",
       "    <tr>\n",
       "      <th>Royalty</th>\n",
       "      <td>1</td>\n",
       "      <td>3</td>\n",
       "    </tr>\n",
       "  </tbody>\n",
       "</table>\n",
       "</div>"
      ],
      "text/plain": [
       "Survived  0.0  1.0\n",
       "Title             \n",
       "Master     18   23\n",
       "Miss       55  129\n",
       "Mr        436   81\n",
       "Mrs        26  101\n",
       "Officer    13    5\n",
       "Royalty     1    3"
      ]
     },
     "execution_count": 112,
     "metadata": {},
     "output_type": "execute_result"
    }
   ],
   "source": [
    "pd.crosstab(dataset.Title, dataset.Survived)"
   ]
  },
  {
   "cell_type": "code",
   "execution_count": 113,
   "metadata": {},
   "outputs": [
    {
     "name": "stdout",
     "output_type": "stream",
     "text": [
      "PassengerId      0\n",
      "Survived       418\n",
      "Pclass           0\n",
      "Name             0\n",
      "Sex              0\n",
      "Age              0\n",
      "SibSp            0\n",
      "Parch            0\n",
      "Ticket           0\n",
      "Fare             0\n",
      "Cabin            0\n",
      "Embarked         0\n",
      "Deck             0\n",
      "Farebin          0\n",
      "Title            0\n",
      "dtype: int64\n"
     ]
    }
   ],
   "source": [
    "age = dataset[['Age','Pclass','Sex','Title']]\n",
    "age_dummies = pd.get_dummies(age)\n",
    "\n",
    "known_age = age_dummies[age_dummies.Age.notnull()].values\n",
    "null_age = age_dummies[age_dummies.Age.isnull()].values\n",
    "\n",
    "age_X = known_age[:, 1:]\n",
    "age_y = known_age[:, 0]\n",
    "\n",
    "if len(null_age) > 0:\n",
    "# 年齢予測モデルを作成し、予測した値で年齢の欠損値を埋める\n",
    "    age_rfr = RandomForestRegressor(\n",
    "        n_estimators=50, criterion='mse', min_samples_split=8,\n",
    "        min_samples_leaf=8, max_features=4, min_weight_fraction_leaf=0.05\n",
    "    )\n",
    "    age_rfr.fit(age_X, age_y)\n",
    "    pred_age = age_rfr.predict(null_age[:, 1:])\n",
    "    dataset.loc[(dataset.Age.isnull()),'Age'] = pred_age\n",
    "\n",
    "dataset_null = dataset.fillna(np.nan)\n",
    "print(dataset.isnull().sum())"
   ]
  },
  {
   "cell_type": "code",
   "execution_count": 114,
   "metadata": {},
   "outputs": [
    {
     "data": {
      "text/html": [
       "<div>\n",
       "<style scoped>\n",
       "    .dataframe tbody tr th:only-of-type {\n",
       "        vertical-align: middle;\n",
       "    }\n",
       "\n",
       "    .dataframe tbody tr th {\n",
       "        vertical-align: top;\n",
       "    }\n",
       "\n",
       "    .dataframe thead th {\n",
       "        text-align: right;\n",
       "    }\n",
       "</style>\n",
       "<table border=\"1\" class=\"dataframe\">\n",
       "  <thead>\n",
       "    <tr style=\"text-align: right;\">\n",
       "      <th></th>\n",
       "      <th>AgeBin</th>\n",
       "      <th>Survived</th>\n",
       "    </tr>\n",
       "  </thead>\n",
       "  <tbody>\n",
       "    <tr>\n",
       "      <th>0</th>\n",
       "      <td>(0.0902, 16.136]</td>\n",
       "      <td>0.548077</td>\n",
       "    </tr>\n",
       "    <tr>\n",
       "      <th>1</th>\n",
       "      <td>(16.136, 32.102]</td>\n",
       "      <td>0.336735</td>\n",
       "    </tr>\n",
       "    <tr>\n",
       "      <th>2</th>\n",
       "      <td>(32.102, 48.068]</td>\n",
       "      <td>0.410138</td>\n",
       "    </tr>\n",
       "    <tr>\n",
       "      <th>3</th>\n",
       "      <td>(48.068, 64.034]</td>\n",
       "      <td>0.434783</td>\n",
       "    </tr>\n",
       "    <tr>\n",
       "      <th>4</th>\n",
       "      <td>(64.034, 80.0]</td>\n",
       "      <td>0.090909</td>\n",
       "    </tr>\n",
       "  </tbody>\n",
       "</table>\n",
       "</div>"
      ],
      "text/plain": [
       "             AgeBin  Survived\n",
       "0  (0.0902, 16.136]  0.548077\n",
       "1  (16.136, 32.102]  0.336735\n",
       "2  (32.102, 48.068]  0.410138\n",
       "3  (48.068, 64.034]  0.434783\n",
       "4    (64.034, 80.0]  0.090909"
      ]
     },
     "execution_count": 114,
     "metadata": {},
     "output_type": "execute_result"
    }
   ],
   "source": [
    "dataset['AgeBin']=pd.cut(dataset['Age'],5)\n",
    "dataset[['AgeBin','Survived']].groupby(['AgeBin'],as_index=False).mean()"
   ]
  },
  {
   "cell_type": "code",
   "execution_count": 115,
   "metadata": {},
   "outputs": [],
   "source": [
    "# Ageをbinning\n",
    "dataset.loc[dataset['Age']<16.5,'Age'] = 0\n",
    "dataset.loc[(dataset['Age']>16.5) & (dataset['Age']<32.5),'Age'] = 1\n",
    "dataset.loc[(dataset['Age']>32.5) & (dataset['Age']<48.5),'Age'] = 2\n",
    "dataset.loc[(dataset['Age']>48.5) & (dataset['Age']<64),'Age'] = 3\n",
    "dataset.loc[dataset['Age']>64,'Age'] = 4"
   ]
  },
  {
   "cell_type": "code",
   "execution_count": 116,
   "metadata": {},
   "outputs": [
    {
     "data": {
      "text/plain": [
       "<AxesSubplot:xlabel='TicketGroup', ylabel='Survived'>"
      ]
     },
     "execution_count": 116,
     "metadata": {},
     "output_type": "execute_result"
    },
    {
     "data": {
      "image/png": "[encoded data removed]",
      "text/plain": [
       "<Figure size 432x288 with 1 Axes>"
      ]
     },
     "metadata": {
      "needs_background": "light"
     },
     "output_type": "display_data"
    }
   ],
   "source": [
    "# チケットの文字数による生存率比較\n",
    "Ticket_Count = dict(dataset['Ticket'].value_counts()) # チケットの文字数でグループ分け\n",
    "dataset['TicketGroup'] = dataset['Ticket'].apply(lambda x:Ticket_Count[x]) # グループの振り分け\n",
    "#sns.barplot(x='TicketGroup', y='Survived', data=dataset, palette='Set3')\n",
    "\n",
    "def Ticket_Label(s):\n",
    "    if (s >= 2) & (s <= 4): # 文字数での生存率が高いグループ\n",
    "        return 2\n",
    "    elif ((s > 4) & (s <= 8)) | (s == 1): # 文字数での生存率が低いグループ\n",
    "        return 1\n",
    "    elif (s > 8):\n",
    "        return 0\n",
    "\n",
    "dataset['TicketGroup'] = dataset['TicketGroup'].apply(Ticket_Label)\n",
    "sns.barplot(x='TicketGroup', y='Survived', data=dataset, palette='Set3')"
   ]
  },
  {
   "cell_type": "code",
   "execution_count": 117,
   "metadata": {},
   "outputs": [
    {
     "data": {
      "text/plain": [
       "<AxesSubplot:xlabel='FamilyLabel', ylabel='Survived'>"
      ]
     },
     "execution_count": 117,
     "metadata": {},
     "output_type": "execute_result"
    },
    {
     "data": {
      "image/png": "[encoded data removed]",
      "text/plain": [
       "<Figure size 432x288 with 1 Axes>"
      ]
     },
     "metadata": {
      "needs_background": "light"
     },
     "output_type": "display_data"
    }
   ],
   "source": [
    "# 同乗している家族の数\n",
    "dataset['FamilySize']=dataset['SibSp']+dataset['Parch']+1\n",
    "\n",
    "# 家族数による生存率でグループ分け\n",
    "def Family_label(s):\n",
    "    if (s >= 2) & (s <= 4):\n",
    "        return 2\n",
    "    elif ((s > 4) & (s <= 7)) | (s == 1):\n",
    "        return 1\n",
    "    elif (s > 7):\n",
    "        return 0\n",
    "dataset['FamilyLabel']=dataset['FamilySize'].apply(Family_label)\n",
    "sns.barplot(x=\"FamilyLabel\", y=\"Survived\", data=dataset, palette='Set3')"
   ]
  },
  {
   "cell_type": "code",
   "execution_count": 123,
   "metadata": {},
   "outputs": [
    {
     "name": "stdout",
     "output_type": "stream",
     "text": [
      "1.000000    92\n",
      "0.000000    75\n",
      "0.500000    19\n",
      "0.333333     6\n",
      "0.666667     5\n",
      "0.750000     3\n",
      "0.250000     1\n",
      "Name: Survived, dtype: int64\n",
      "0.0    56\n",
      "1.0    12\n",
      "0.5     3\n",
      "Name: Survived, dtype: int64\n"
     ]
    }
   ],
   "source": [
    "# NameからSurname(苗字)を抽出\n",
    "dataset['Surname'] = dataset['Name'].map(lambda name:name.split(',')[0].strip())\n",
    "\n",
    "# 同じSurname(苗字)の出現頻度をカウント(出現回数が2以上なら家族)\n",
    "dataset['FamilyGroup'] = dataset['Surname'].map(dataset['Surname'].value_counts()) \n",
    "# 家族で16才以下または女性の生存率\n",
    "female_child_group=dataset.loc[(dataset['FamilyGroup']>=2) & ((dataset['Age']<=1) | (dataset['Sex']==1))]\n",
    "female_child_group=female_child_group.groupby('Surname')['Survived'].mean()\n",
    "print(female_child_group.value_counts())\n",
    "\n",
    "# 家族で16才超えかつ男性の生存率\n",
    "male_adult_group=dataset.loc[(dataset['FamilyGroup']>=2) & (dataset['Age']>1) & (dataset['Sex']==0)]\n",
    "male_adult_list=male_adult_group.groupby('Surname')['Survived'].mean()\n",
    "print(male_adult_list.value_counts())"
   ]
  },
  {
   "cell_type": "code",
   "execution_count": 124,
   "metadata": {},
   "outputs": [
    {
     "name": "stdout",
     "output_type": "stream",
     "text": [
      "Dead_list =  {'Van Impe', 'Flynn', 'Carrau', 'Goodwin', 'Olsson', 'Sage', 'Cor', 'Bryhl', 'Elias', 'del Carlo', 'Braund', 'Ilmakangas', 'Robins', 'Klasen', 'Johnston', 'Carlsson', 'Caram', 'Larsson', 'Lennon', 'Marvin', 'Moore', 'Rice', 'Zabour', 'Davidson', 'Betros', 'McNamee', 'Attalah', 'Dennis', 'Boulos', 'Kiernan', 'Rosblom', 'Ryan', 'Hickman', 'Jensen', 'Oreskovic', 'Karlsson', 'Strom', 'Andrew', 'Kink', 'Svensson', 'White', 'Barbara', 'Hagland', 'Vander Planke', 'Widener', 'Olsen', 'Samaan', 'Wiklund', 'Coleff', 'Risien', 'Calic', \"O'Connor\", 'Lobb', 'Johansson', 'Skoog', 'Bowen', 'Panula', 'Hansen', 'Arnold-Franchi', 'Rogers', 'Ali', 'Chronopoulos', 'Ford', 'Canavan', 'Palsson', 'Giles', 'Petroff', 'Gustafsson', 'Cacic', 'Lefebre', 'Lahtinen', 'Bourke', 'Saad', 'Turpin', 'Danbom'}\n",
      "Survived_list =  {'Taylor', 'Flynn', 'Cardeza', 'Daly', 'Kimball', 'Duff Gordon', 'Frauenthal', 'Beckwith', 'Goldenberg', 'Harper', 'Bradley', 'Frolicher-Stehli'}\n"
     ]
    }
   ],
   "source": [
    "dead_list=set(female_child_group[female_child_group.apply(lambda x:x==0)].index)\n",
    "survived_list=set(male_adult_list[male_adult_list.apply(lambda x:x==1)].index)\n",
    "\n",
    "print('Dead_list = ', dead_list)\n",
    "print('Survived_list = ', survived_list)\n",
    "\n",
    "dataset.loc[(dataset['Survived'].isnull()) & (dataset['Surname'].apply(lambda x:x in dead_list)),\n",
    "             ['Sex','Age','Title']] = [0,1,'Mr']\n",
    "dataset.loc[(dataset['Survived'].isnull()) & (dataset['Surname'].apply(lambda x:x in survived_list)),\n",
    "             ['Sex','Age','Title']] = [1,1,'Mrs']"
   ]
  },
  {
   "cell_type": "code",
   "execution_count": 125,
   "metadata": {},
   "outputs": [
    {
     "name": "stdout",
     "output_type": "stream",
     "text": [
      "   Survived  Pclass  Sex  Age  Fare  Embarked  TicketGroup  FamilyLabel  \\\n",
      "0       0.0       3    0  1.0   0.0         1            1            2   \n",
      "1       1.0       1    1  2.0   0.0         2            2            2   \n",
      "2       1.0       3    1  1.0   0.0         1            1            1   \n",
      "\n",
      "   Deck_A  Deck_B  ...  Deck_F  Deck_G  Deck_T  Deck_U  Title_Master  \\\n",
      "0       0       0  ...       0       0       0       1             0   \n",
      "1       0       0  ...       0       0       0       0             0   \n",
      "2       0       0  ...       0       0       0       1             0   \n",
      "\n",
      "   Title_Miss  Title_Mr  Title_Mrs  Title_Officer  Title_Royalty  \n",
      "0           0         1          0              0              0  \n",
      "1           0         0          1              0              0  \n",
      "2           1         0          0              0              0  \n",
      "\n",
      "[3 rows x 23 columns]\n"
     ]
    }
   ],
   "source": [
    "# 特徴選択\n",
    "features = dataset[['Survived','Pclass','Sex','Age','Fare','Embarked','Deck','TicketGroup','Title','FamilyLabel']]\n",
    "\n",
    "# One-hot\n",
    "dataset_dummies = pd.get_dummies(features, drop_first=False)\n",
    "print(dataset_dummies.head(3))\n",
    "\n",
    "train_set = dataset_dummies[dataset_dummies['Survived'].notnull()]\n",
    "test_set = dataset_dummies[dataset_dummies['Survived'].isnull()]\n",
    "del test_set[\"Survived\"]\n",
    "\n",
    "X = train_set.values[:, 1:] # Pclass以降の変数\n",
    "y = train_set.values[:, 0] # 正解データ\n"
   ]
  },
  {
   "cell_type": "code",
   "execution_count": 126,
   "metadata": {},
   "outputs": [
    {
     "name": "stdout",
     "output_type": "stream",
     "text": [
      "{'max_depth': 8, 'n_estimators': 120}\n",
      "0.8395255930087391\n"
     ]
    }
   ],
   "source": [
    "# モデルの作成\n",
    "rfc = RandomForestClassifier(\n",
    "    random_state = 10,\n",
    "    max_features='sqrt',\n",
    ")\n",
    "\n",
    "param_grid = {'n_estimators':list(range(20, 150, 10)),\n",
    "              'max_depth':list(range(3, 10, 1))}\n",
    "grid = GridSearchCV(estimator=rfc, param_grid=param_grid, scoring='accuracy', cv=10, n_jobs=-1)\n",
    "grid.fit(X, y)\n",
    "print(grid.best_params_, grid.best_score_, sep=\"\\n\")\n",
    "#{'classify__max_depth': 6, 'classify__n_estimators': 20}\n",
    "#0.8462421972534331\n"
   ]
  },
  {
   "cell_type": "code",
   "execution_count": 127,
   "metadata": {},
   "outputs": [
    {
     "name": "stdout",
     "output_type": "stream",
     "text": [
      "mean_score =  0.8417727840199751\n",
      "mean_std =  0.03557610853733699\n"
     ]
    }
   ],
   "source": [
    "select = SelectKBest(k=20)\n",
    "rfc = RandomForestClassifier(\n",
    "    random_state = 10,\n",
    "    warm_start = True,\n",
    "    max_features='sqrt',\n",
    "    max_depth=8,\n",
    "    n_estimators=120\n",
    ")\n",
    "pipeline = make_pipeline(select, rfc)\n",
    "pipeline.fit(X, y)\n",
    "cv_result = model_selection.cross_validate(pipeline, X, y, cv=10)\n",
    "print('mean_score = ', np.mean(cv_result['test_score']))\n",
    "print('mean_std = ', np.std(cv_result['test_score']))"
   ]
  },
  {
   "cell_type": "code",
   "execution_count": 131,
   "metadata": {},
   "outputs": [
    {
     "name": "stdout",
     "output_type": "stream",
     "text": [
      "{'learning_rate': 0.1, 'max_depth': 4, 'n_estimators': 60}\n",
      "0.837278401997503\n"
     ]
    }
   ],
   "source": [
    "xgb = XGBClassifier(random_state = 10, use_label_encoder=False, eval_metric='logloss', objective='binary:logistic')\n",
    "param_grid = {\n",
    "    'n_estimators':list(range(50, 150, 10)),\n",
    "    'learning_rate':[0.08, 0.1, 0.12],\n",
    "    'max_depth':list(range(3, 10, 1)),\n",
    "}\n",
    "grid = GridSearchCV(estimator = xgb, param_grid = param_grid, n_jobs=1, scoring='accuracy', cv=10)\n",
    "grid.fit(X, y)\n",
    "print(grid.best_params_, grid.best_score_, sep=\"\\n\")\n",
    "#{'learning_rate': 0.1, 'max_depth': 3, 'n_estimators': 140}\n",
    "#0.8485393258426965"
   ]
  },
  {
   "cell_type": "code",
   "execution_count": 134,
   "metadata": {},
   "outputs": [
    {
     "name": "stdout",
     "output_type": "stream",
     "text": [
      "mean_score =  0.8327715355805243\n",
      "mean_std =  0.0374161802224643\n"
     ]
    }
   ],
   "source": [
    "select = SelectKBest(k=18)\n",
    "clf = XGBClassifier(\n",
    "    random_state = 10,\n",
    "    objective='binary:logistic',\n",
    "    n_estimators=60,\n",
    "    max_depth=3,\n",
    "    learning_rate=0.1,\n",
    "    use_label_encoder=False,\n",
    "    eval_metric='logloss')\n",
    "pipeline = make_pipeline(select, clf)\n",
    "pipeline.fit(X, y)\n",
    "cv_result = model_selection.cross_validate(pipeline, X, y, cv=10)\n",
    "print('mean_score = ', np.mean(cv_result['test_score']))\n",
    "print('mean_std = ', np.std(cv_result['test_score']))\n"
   ]
  },
  {
   "cell_type": "code",
   "execution_count": 135,
   "metadata": {},
   "outputs": [
    {
     "name": "stdout",
     "output_type": "stream",
     "text": [
      "No1 Pclass = True\n",
      "No2 Sex = True\n",
      "No3 Age = True\n",
      "No4 Fare = True\n",
      "No5 Embarked = True\n",
      "No6 TicketGroup = True\n",
      "No7 FamilyLabel = True\n",
      "No8 Deck_A = False\n",
      "No9 Deck_B = True\n",
      "No10 Deck_C = True\n",
      "No11 Deck_D = True\n",
      "No12 Deck_E = True\n",
      "No13 Deck_F = True\n",
      "No14 Deck_G = False\n",
      "No15 Deck_T = False\n",
      "No16 Deck_U = True\n",
      "No17 Title_Master = True\n",
      "No18 Title_Miss = True\n",
      "No19 Title_Mr = True\n",
      "No20 Title_Mrs = True\n",
      "No21 Title_Officer = False\n",
      "No22 Title_Royalty = True\n",
      "X.shape=(891, 22), X_selected.shape=(891, 18)\n"
     ]
    }
   ],
   "source": [
    "mask= select.get_support()\n",
    "\n",
    "list_col = list(dataset_dummies.columns[1:])\n",
    "\n",
    "# 項目別の採用可否の一覧表\n",
    "for i, j in enumerate(list_col):\n",
    "    print('No'+str(i+1), j,'=',  mask[i])\n",
    "\n",
    "X_selected = select.transform(X)\n",
    "print('X.shape={}, X_selected.shape={}'.format(X.shape, X_selected.shape))"
   ]
  },
  {
   "cell_type": "code",
   "execution_count": 136,
   "metadata": {},
   "outputs": [],
   "source": [
    "pred = pipeline.predict(test_set)\n",
    "#pred = grid.predict(test_set)"
   ]
  },
  {
   "cell_type": "code",
   "execution_count": 137,
   "metadata": {},
   "outputs": [],
   "source": [
    "submission = pd.DataFrame({\"PassengerId\": passenger_id, \"Survived\": pred.astype(np.int32)})\n",
    "submission.to_csv(\"submission.csv\", index=False)"
   ]
  },
  {
   "cell_type": "markdown",
   "metadata": {},
   "source": []
  }
 ],
 "metadata": {
  "interpreter": {
   "hash": "fdcce2b2c52301d758fbe994aba9d6979bf0728619013c1e8cba032aa4158f2e"
  },
  "kernelspec": {
   "display_name": "Python 3.8.5 64-bit ('.venv': pipenv)",
   "language": "python",
   "name": "python3"
  },
  "language_info": {
   "codemirror_mode": {
    "name": "ipython",
    "version": 3
   },
   "file_extension": ".py",
   "mimetype": "text/x-python",
   "name": "python",
   "nbconvert_exporter": "python",
   "pygments_lexer": "ipython3",
   "version": "3.8.5"
  },
  "orig_nbformat": 4
 },
 "nbformat": 4,
 "nbformat_minor": 2
}
