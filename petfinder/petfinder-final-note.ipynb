{
 "cells": [
  {
   "cell_type": "code",
   "execution_count": 1,
   "id": "8f265d53",
   "metadata": {
    "_cell_guid": "b1076dfc-b9ad-4769-8c92-a6c4dae69d19",
    "_uuid": "8f2839f25d086af736a60e9eeb907d3b93b6e0e5",
    "execution": {
     "iopub.execute_input": "2022-01-14T06:29:51.108581Z",
     "iopub.status.busy": "2022-01-14T06:29:51.107069Z",
     "iopub.status.idle": "2022-01-14T06:29:55.566766Z",
     "shell.execute_reply": "2022-01-14T06:29:55.566158Z",
     "shell.execute_reply.started": "2022-01-14T06:19:41.774588Z"
    },
    "papermill": {
     "duration": 4.477277,
     "end_time": "2022-01-14T06:29:55.566928",
     "exception": false,
     "start_time": "2022-01-14T06:29:51.089651",
     "status": "completed"
    },
    "tags": []
   },
   "outputs": [],
   "source": [
    "import numpy as np # linear algebra\n",
    "import pandas as pd # data processing, CSV file I/O (e.g. pd.read_csv)\n",
    "\n",
    "# Input data files are available in the read-only \"../input/\" directory\n",
    "# For example, running this (by clicking run or pressing Shift+Enter) will list all files under the input directory\n",
    "\n",
    "import os\n",
    "IN_COLAB = 'COLAB_GPU' in os.environ.keys()\n",
    "\n",
    "# You can write up to 20GB to the current directory (/kaggle/working/) that gets preserved as output when you create a version using \"Save & Run All\" \n",
    "# You can also write temporary files to /kaggle/temp/, but they won't be saved outside of the current session\n",
    "import gc\n",
    "import sys\n",
    "sys.path.append('../input/timm-module/Desktop/pytorch-image-models')\n",
    "from timm import create_model\n",
    "from fastai.vision.all import *\n",
    "from sklearn.metrics import mean_squared_error\n",
    "from time import time\n",
    "\n",
    "import warnings\n",
    "warnings.filterwarnings('ignore')"
   ]
  },
  {
   "cell_type": "code",
   "execution_count": 2,
   "id": "279202b2",
   "metadata": {
    "execution": {
     "iopub.execute_input": "2022-01-14T06:29:55.597559Z",
     "iopub.status.busy": "2022-01-14T06:29:55.596873Z",
     "iopub.status.idle": "2022-01-14T06:29:55.657016Z",
     "shell.execute_reply": "2022-01-14T06:29:55.657521Z",
     "shell.execute_reply.started": "2022-01-14T06:19:43.913710Z"
    },
    "papermill": {
     "duration": 0.077912,
     "end_time": "2022-01-14T06:29:55.657702",
     "exception": false,
     "start_time": "2022-01-14T06:29:55.579790",
     "status": "completed"
    },
    "tags": []
   },
   "outputs": [
    {
     "name": "stdout",
     "output_type": "stream",
     "text": [
      "(9912, 14) (8, 13) (8, 2)\n"
     ]
    },
    {
     "data": {
      "text/html": [
       "<div>\n",
       "<style scoped>\n",
       "    .dataframe tbody tr th:only-of-type {\n",
       "        vertical-align: middle;\n",
       "    }\n",
       "\n",
       "    .dataframe tbody tr th {\n",
       "        vertical-align: top;\n",
       "    }\n",
       "\n",
       "    .dataframe thead th {\n",
       "        text-align: right;\n",
       "    }\n",
       "</style>\n",
       "<table border=\"1\" class=\"dataframe\">\n",
       "  <thead>\n",
       "    <tr style=\"text-align: right;\">\n",
       "      <th></th>\n",
       "      <th>Id</th>\n",
       "      <th>Subject Focus</th>\n",
       "      <th>Eyes</th>\n",
       "      <th>Face</th>\n",
       "      <th>Near</th>\n",
       "      <th>Action</th>\n",
       "      <th>Accessory</th>\n",
       "      <th>Group</th>\n",
       "      <th>Collage</th>\n",
       "      <th>Human</th>\n",
       "      <th>Occlusion</th>\n",
       "      <th>Info</th>\n",
       "      <th>Blur</th>\n",
       "      <th>Pawpularity</th>\n",
       "    </tr>\n",
       "  </thead>\n",
       "  <tbody>\n",
       "    <tr>\n",
       "      <th>0</th>\n",
       "      <td>0007de18844b0dbbb5e1f607da0606e0</td>\n",
       "      <td>0</td>\n",
       "      <td>1</td>\n",
       "      <td>1</td>\n",
       "      <td>1</td>\n",
       "      <td>0</td>\n",
       "      <td>0</td>\n",
       "      <td>1</td>\n",
       "      <td>0</td>\n",
       "      <td>0</td>\n",
       "      <td>0</td>\n",
       "      <td>0</td>\n",
       "      <td>0</td>\n",
       "      <td>63</td>\n",
       "    </tr>\n",
       "    <tr>\n",
       "      <th>1</th>\n",
       "      <td>0009c66b9439883ba2750fb825e1d7db</td>\n",
       "      <td>0</td>\n",
       "      <td>1</td>\n",
       "      <td>1</td>\n",
       "      <td>0</td>\n",
       "      <td>0</td>\n",
       "      <td>0</td>\n",
       "      <td>0</td>\n",
       "      <td>0</td>\n",
       "      <td>0</td>\n",
       "      <td>0</td>\n",
       "      <td>0</td>\n",
       "      <td>0</td>\n",
       "      <td>42</td>\n",
       "    </tr>\n",
       "    <tr>\n",
       "      <th>2</th>\n",
       "      <td>0013fd999caf9a3efe1352ca1b0d937e</td>\n",
       "      <td>0</td>\n",
       "      <td>1</td>\n",
       "      <td>1</td>\n",
       "      <td>1</td>\n",
       "      <td>0</td>\n",
       "      <td>0</td>\n",
       "      <td>0</td>\n",
       "      <td>0</td>\n",
       "      <td>1</td>\n",
       "      <td>1</td>\n",
       "      <td>0</td>\n",
       "      <td>0</td>\n",
       "      <td>28</td>\n",
       "    </tr>\n",
       "    <tr>\n",
       "      <th>3</th>\n",
       "      <td>0018df346ac9c1d8413cfcc888ca8246</td>\n",
       "      <td>0</td>\n",
       "      <td>1</td>\n",
       "      <td>1</td>\n",
       "      <td>1</td>\n",
       "      <td>0</td>\n",
       "      <td>0</td>\n",
       "      <td>0</td>\n",
       "      <td>0</td>\n",
       "      <td>0</td>\n",
       "      <td>0</td>\n",
       "      <td>0</td>\n",
       "      <td>0</td>\n",
       "      <td>15</td>\n",
       "    </tr>\n",
       "    <tr>\n",
       "      <th>4</th>\n",
       "      <td>001dc955e10590d3ca4673f034feeef2</td>\n",
       "      <td>0</td>\n",
       "      <td>0</td>\n",
       "      <td>0</td>\n",
       "      <td>1</td>\n",
       "      <td>0</td>\n",
       "      <td>0</td>\n",
       "      <td>1</td>\n",
       "      <td>0</td>\n",
       "      <td>0</td>\n",
       "      <td>0</td>\n",
       "      <td>0</td>\n",
       "      <td>0</td>\n",
       "      <td>72</td>\n",
       "    </tr>\n",
       "  </tbody>\n",
       "</table>\n",
       "</div>"
      ],
      "text/plain": [
       "                                 Id  Subject Focus  Eyes  Face  Near  Action  \\\n",
       "0  0007de18844b0dbbb5e1f607da0606e0              0     1     1     1       0   \n",
       "1  0009c66b9439883ba2750fb825e1d7db              0     1     1     0       0   \n",
       "2  0013fd999caf9a3efe1352ca1b0d937e              0     1     1     1       0   \n",
       "3  0018df346ac9c1d8413cfcc888ca8246              0     1     1     1       0   \n",
       "4  001dc955e10590d3ca4673f034feeef2              0     0     0     1       0   \n",
       "\n",
       "   Accessory  Group  Collage  Human  Occlusion  Info  Blur  Pawpularity  \n",
       "0          0      1        0      0          0     0     0           63  \n",
       "1          0      0        0      0          0     0     0           42  \n",
       "2          0      0        0      1          1     0     0           28  \n",
       "3          0      0        0      0          0     0     0           15  \n",
       "4          0      1        0      0          0     0     0           72  "
      ]
     },
     "execution_count": 2,
     "metadata": {},
     "output_type": "execute_result"
    }
   ],
   "source": [
    "if IN_COLAB:\n",
    "    dataset_path = Path('./')\n",
    "else:\n",
    "    dataset_path = Path('../input/petfinder-pawpularity-score/')\n",
    "train = pd.read_csv(dataset_path/\"train.csv\")\n",
    "test = pd.read_csv(dataset_path/\"test.csv\")\n",
    "sample_submission = pd.read_csv(dataset_path/\"sample_submission.csv\")\n",
    "\n",
    "print(train.shape, test.shape, sample_submission.shape)\n",
    "train.head()"
   ]
  },
  {
   "cell_type": "code",
   "execution_count": 3,
   "id": "83fbec9f",
   "metadata": {
    "execution": {
     "iopub.execute_input": "2022-01-14T06:29:55.688782Z",
     "iopub.status.busy": "2022-01-14T06:29:55.687956Z",
     "iopub.status.idle": "2022-01-14T06:29:55.690140Z",
     "shell.execute_reply": "2022-01-14T06:29:55.690520Z",
     "shell.execute_reply.started": "2022-01-14T06:19:46.475816Z"
    },
    "papermill": {
     "duration": 0.020131,
     "end_time": "2022-01-14T06:29:55.690665",
     "exception": false,
     "start_time": "2022-01-14T06:29:55.670534",
     "status": "completed"
    },
    "tags": []
   },
   "outputs": [],
   "source": [
    "# set seed\n",
    "seed = 999\n",
    "random.seed(seed)\n",
    "np.random.seed(seed)\n",
    "set_seed(seed, reproducible=True)\n",
    "torch.manual_seed(seed)\n",
    "torch.cuda.manual_seed_all(seed)\n",
    "torch.backends.cudnn.deterministic = True\n",
    "torch.use_deterministic_algorithms = True\n",
    "\n",
    "BATCH_SIZE = 8"
   ]
  },
  {
   "cell_type": "code",
   "execution_count": 4,
   "id": "d8ff2dda",
   "metadata": {
    "execution": {
     "iopub.execute_input": "2022-01-14T06:29:55.725209Z",
     "iopub.status.busy": "2022-01-14T06:29:55.724343Z",
     "iopub.status.idle": "2022-01-14T06:29:56.079429Z",
     "shell.execute_reply": "2022-01-14T06:29:56.078993Z",
     "shell.execute_reply.started": "2022-01-14T06:19:50.074814Z"
    },
    "papermill": {
     "duration": 0.376152,
     "end_time": "2022-01-14T06:29:56.079555",
     "exception": false,
     "start_time": "2022-01-14T06:29:55.703403",
     "status": "completed"
    },
    "tags": []
   },
   "outputs": [
    {
     "name": "stdout",
     "output_type": "stream",
     "text": [
      "44\n"
     ]
    },
    {
     "data": {
      "text/plain": [
       "<AxesSubplot:>"
      ]
     },
     "execution_count": 4,
     "metadata": {},
     "output_type": "execute_result"
    },
    {
     "data": {
      "image/png": "[encoded data removed]",
      "text/plain": [
       "<Figure size 432x288 with 1 Axes>"
      ]
     },
     "metadata": {
      "needs_background": "light"
     },
     "output_type": "display_data"
    }
   ],
   "source": [
    "if 'Id' in train:\n",
    "    train['path'] = train['Id'].map(lambda x:str(dataset_path/'train'/x)+'.jpg')\n",
    "    train = train.drop(columns=['Id'])\n",
    "train = train.sample(frac=1, random_state=seed).reset_index(drop=True) #shuffle dataframe\n",
    "train['norm_score'] = train['Pawpularity']/100\n",
    "\n",
    "#Sturges' rule スタージェスの公式（ヒストグラムの階級数の決め方） \n",
    "num_bins = int(np.floor(1+(3.3)*(np.log2(len(train)))))\n",
    "print(num_bins)\n",
    "train['bins'] = pd.cut(train['norm_score'], bins=num_bins, labels=False)\n",
    "train['bins'].hist()"
   ]
  },
  {
   "cell_type": "code",
   "execution_count": 5,
   "id": "2e18a2aa",
   "metadata": {
    "execution": {
     "iopub.execute_input": "2022-01-14T06:29:56.112737Z",
     "iopub.status.busy": "2022-01-14T06:29:56.111919Z",
     "iopub.status.idle": "2022-01-14T06:29:56.117214Z",
     "shell.execute_reply": "2022-01-14T06:29:56.117613Z",
     "shell.execute_reply.started": "2022-01-14T06:19:55.364820Z"
    },
    "papermill": {
     "duration": 0.02426,
     "end_time": "2022-01-14T06:29:56.117743",
     "exception": false,
     "start_time": "2022-01-14T06:29:56.093483",
     "status": "completed"
    },
    "tags": []
   },
   "outputs": [],
   "source": [
    "test['Pawpularity'] = [1]*len(test)\n",
    "test['path'] = test['Id'].map(lambda x:str(dataset_path/'test'/x)+'.jpg')\n",
    "test = test.drop(columns=['Id'])\n",
    "train['norm_score'] = train['Pawpularity']/100"
   ]
  },
  {
   "cell_type": "code",
   "execution_count": 6,
   "id": "c5765514",
   "metadata": {
    "execution": {
     "iopub.execute_input": "2022-01-14T06:29:56.152198Z",
     "iopub.status.busy": "2022-01-14T06:29:56.151688Z",
     "iopub.status.idle": "2022-01-14T06:29:56.353802Z",
     "shell.execute_reply": "2022-01-14T06:29:56.353310Z",
     "shell.execute_reply.started": "2022-01-14T06:19:57.992999Z"
    },
    "papermill": {
     "duration": 0.222647,
     "end_time": "2022-01-14T06:29:56.353928",
     "exception": false,
     "start_time": "2022-01-14T06:29:56.131281",
     "status": "completed"
    },
    "tags": []
   },
   "outputs": [
    {
     "name": "stdout",
     "output_type": "stream",
     "text": [
      "0 [  16   17   21 ... 9898 9899 9900]\n",
      "1 [   6   10   28 ... 9896 9903 9905]\n",
      "2 [   5    9   13 ... 9875 9895 9911]\n",
      "3 [   2    7    8 ... 9893 9901 9910]\n",
      "4 [  11   15   27 ... 9897 9906 9907]\n",
      "5 [   0    1    3 ... 9904 9908 9909]\n"
     ]
    },
    {
     "data": {
      "text/plain": [
       "<AxesSubplot:>"
      ]
     },
     "execution_count": 6,
     "metadata": {},
     "output_type": "execute_result"
    },
    {
     "data": {
      "image/png": "[encoded data removed]",
      "text/plain": [
       "<Figure size 432x288 with 1 Axes>"
      ]
     },
     "metadata": {
      "needs_background": "light"
     },
     "output_type": "display_data"
    }
   ],
   "source": [
    "from sklearn.model_selection import KFold\n",
    "from sklearn.model_selection import StratifiedKFold\n",
    "\n",
    "train['fold'] = -1\n",
    "\n",
    "N_FOLDS = 6  # 5 to 6\n",
    "strat_kfold = StratifiedKFold(n_splits=N_FOLDS, random_state=seed, shuffle=True)\n",
    "for i, (_, train_index) in enumerate(strat_kfold.split(train.index, train['bins'])):\n",
    "    print(i,train_index)\n",
    "    train.iloc[train_index, -1] = i\n",
    "    \n",
    "train['fold'] = train['fold'].astype('int')\n",
    "train.fold.value_counts().plot.bar()"
   ]
  },
  {
   "cell_type": "code",
   "execution_count": 7,
   "id": "6dcfa161",
   "metadata": {
    "execution": {
     "iopub.execute_input": "2022-01-14T06:29:56.388345Z",
     "iopub.status.busy": "2022-01-14T06:29:56.387838Z",
     "iopub.status.idle": "2022-01-14T06:29:56.391078Z",
     "shell.execute_reply": "2022-01-14T06:29:56.391450Z",
     "shell.execute_reply.started": "2022-01-14T06:20:01.143995Z"
    },
    "papermill": {
     "duration": 0.022545,
     "end_time": "2022-01-14T06:29:56.391587",
     "exception": false,
     "start_time": "2022-01-14T06:29:56.369042",
     "status": "completed"
    },
    "tags": []
   },
   "outputs": [],
   "source": [
    "def petfinder_rmse(input, target):\n",
    "    return 100*torch.sqrt(F.mse_loss(F.sigmoid(input.flatten()), target))"
   ]
  },
  {
   "cell_type": "markdown",
   "id": "a05a2dc6",
   "metadata": {
    "papermill": {
     "duration": 0.014796,
     "end_time": "2022-01-14T06:29:56.421380",
     "exception": false,
     "start_time": "2022-01-14T06:29:56.406584",
     "status": "completed"
    },
    "tags": []
   },
   "source": [
    "**Swin Transformer**"
   ]
  },
  {
   "cell_type": "code",
   "execution_count": 8,
   "id": "1438aa30",
   "metadata": {
    "execution": {
     "iopub.execute_input": "2022-01-14T06:29:56.464312Z",
     "iopub.status.busy": "2022-01-14T06:29:56.463781Z",
     "iopub.status.idle": "2022-01-14T06:33:09.382349Z",
     "shell.execute_reply": "2022-01-14T06:33:09.382803Z",
     "shell.execute_reply.started": "2022-01-14T06:23:05.729332Z"
    },
    "papermill": {
     "duration": 192.946924,
     "end_time": "2022-01-14T06:33:09.382964",
     "exception": false,
     "start_time": "2022-01-14T06:29:56.436040",
     "status": "completed"
    },
    "tags": []
   },
   "outputs": [
    {
     "name": "stdout",
     "output_type": "stream",
     "text": [
      "--- swin model v18 ---\n",
      "Fold 0 results\n",
      "../input/petfinder-swin-models/models/v18/swin_model_fold_0.pkl\n"
     ]
    },
    {
     "data": {
      "text/html": [
       "\n",
       "    <div>\n",
       "        <style>\n",
       "            /* Turns off some styling */\n",
       "            progress {\n",
       "                /* gets rid of default border in Firefox and Opera. */\n",
       "                border: none;\n",
       "                /* Needs to be in here for Safari polyfill so background images work as expected. */\n",
       "                background-size: auto;\n",
       "            }\n",
       "            .progress-bar-interrupted, .progress-bar-interrupted::-webkit-progress-bar {\n",
       "                background: #F44336;\n",
       "            }\n",
       "        </style>\n",
       "      <progress value='0' class='' max='15' style='width:300px; height:20px; vertical-align: middle;'></progress>\n",
       "      \n",
       "    </div>\n",
       "    \n"
      ],
      "text/plain": [
       "<IPython.core.display.HTML object>"
      ]
     },
     "metadata": {},
     "output_type": "display_data"
    },
    {
     "data": {
      "text/html": [],
      "text/plain": [
       "<IPython.core.display.HTML object>"
      ]
     },
     "metadata": {},
     "output_type": "display_data"
    },
    {
     "name": "stdout",
     "output_type": "stream",
     "text": [
      "20.267720460891724 sec\n",
      "Fold 1 results\n",
      "../input/petfinder-swin-models/models/v18/swin_model_fold_1.pkl\n"
     ]
    },
    {
     "data": {
      "text/html": [
       "\n",
       "    <div>\n",
       "        <style>\n",
       "            /* Turns off some styling */\n",
       "            progress {\n",
       "                /* gets rid of default border in Firefox and Opera. */\n",
       "                border: none;\n",
       "                /* Needs to be in here for Safari polyfill so background images work as expected. */\n",
       "                background-size: auto;\n",
       "            }\n",
       "            .progress-bar-interrupted, .progress-bar-interrupted::-webkit-progress-bar {\n",
       "                background: #F44336;\n",
       "            }\n",
       "        </style>\n",
       "      <progress value='0' class='' max='15' style='width:300px; height:20px; vertical-align: middle;'></progress>\n",
       "      \n",
       "    </div>\n",
       "    \n"
      ],
      "text/plain": [
       "<IPython.core.display.HTML object>"
      ]
     },
     "metadata": {},
     "output_type": "display_data"
    },
    {
     "data": {
      "text/html": [],
      "text/plain": [
       "<IPython.core.display.HTML object>"
      ]
     },
     "metadata": {},
     "output_type": "display_data"
    },
    {
     "name": "stdout",
     "output_type": "stream",
     "text": [
      "11.586963891983032 sec\n",
      "Fold 2 results\n",
      "../input/petfinder-swin-models/models/v18/swin_model_fold_2.pkl\n"
     ]
    },
    {
     "data": {
      "text/html": [
       "\n",
       "    <div>\n",
       "        <style>\n",
       "            /* Turns off some styling */\n",
       "            progress {\n",
       "                /* gets rid of default border in Firefox and Opera. */\n",
       "                border: none;\n",
       "                /* Needs to be in here for Safari polyfill so background images work as expected. */\n",
       "                background-size: auto;\n",
       "            }\n",
       "            .progress-bar-interrupted, .progress-bar-interrupted::-webkit-progress-bar {\n",
       "                background: #F44336;\n",
       "            }\n",
       "        </style>\n",
       "      <progress value='0' class='' max='15' style='width:300px; height:20px; vertical-align: middle;'></progress>\n",
       "      \n",
       "    </div>\n",
       "    \n"
      ],
      "text/plain": [
       "<IPython.core.display.HTML object>"
      ]
     },
     "metadata": {},
     "output_type": "display_data"
    },
    {
     "data": {
      "text/html": [],
      "text/plain": [
       "<IPython.core.display.HTML object>"
      ]
     },
     "metadata": {},
     "output_type": "display_data"
    },
    {
     "name": "stdout",
     "output_type": "stream",
     "text": [
      "10.090507745742798 sec\n",
      "Fold 3 results\n",
      "../input/petfinder-swin-models/models/v18/swin_model_fold_3.pkl\n"
     ]
    },
    {
     "data": {
      "text/html": [
       "\n",
       "    <div>\n",
       "        <style>\n",
       "            /* Turns off some styling */\n",
       "            progress {\n",
       "                /* gets rid of default border in Firefox and Opera. */\n",
       "                border: none;\n",
       "                /* Needs to be in here for Safari polyfill so background images work as expected. */\n",
       "                background-size: auto;\n",
       "            }\n",
       "            .progress-bar-interrupted, .progress-bar-interrupted::-webkit-progress-bar {\n",
       "                background: #F44336;\n",
       "            }\n",
       "        </style>\n",
       "      <progress value='0' class='' max='15' style='width:300px; height:20px; vertical-align: middle;'></progress>\n",
       "      \n",
       "    </div>\n",
       "    \n"
      ],
      "text/plain": [
       "<IPython.core.display.HTML object>"
      ]
     },
     "metadata": {},
     "output_type": "display_data"
    },
    {
     "data": {
      "text/html": [],
      "text/plain": [
       "<IPython.core.display.HTML object>"
      ]
     },
     "metadata": {},
     "output_type": "display_data"
    },
    {
     "name": "stdout",
     "output_type": "stream",
     "text": [
      "9.823734283447266 sec\n",
      "Fold 4 results\n",
      "../input/petfinder-swin-models/models/v18/swin_model_fold_4.pkl\n"
     ]
    },
    {
     "data": {
      "text/html": [
       "\n",
       "    <div>\n",
       "        <style>\n",
       "            /* Turns off some styling */\n",
       "            progress {\n",
       "                /* gets rid of default border in Firefox and Opera. */\n",
       "                border: none;\n",
       "                /* Needs to be in here for Safari polyfill so background images work as expected. */\n",
       "                background-size: auto;\n",
       "            }\n",
       "            .progress-bar-interrupted, .progress-bar-interrupted::-webkit-progress-bar {\n",
       "                background: #F44336;\n",
       "            }\n",
       "        </style>\n",
       "      <progress value='0' class='' max='15' style='width:300px; height:20px; vertical-align: middle;'></progress>\n",
       "      \n",
       "    </div>\n",
       "    \n"
      ],
      "text/plain": [
       "<IPython.core.display.HTML object>"
      ]
     },
     "metadata": {},
     "output_type": "display_data"
    },
    {
     "data": {
      "text/html": [],
      "text/plain": [
       "<IPython.core.display.HTML object>"
      ]
     },
     "metadata": {},
     "output_type": "display_data"
    },
    {
     "name": "stdout",
     "output_type": "stream",
     "text": [
      "10.061646223068237 sec\n",
      "Fold 5 results\n",
      "../input/petfinder-swin-models/models/v18/swin_model_fold_5.pkl\n"
     ]
    },
    {
     "data": {
      "text/html": [
       "\n",
       "    <div>\n",
       "        <style>\n",
       "            /* Turns off some styling */\n",
       "            progress {\n",
       "                /* gets rid of default border in Firefox and Opera. */\n",
       "                border: none;\n",
       "                /* Needs to be in here for Safari polyfill so background images work as expected. */\n",
       "                background-size: auto;\n",
       "            }\n",
       "            .progress-bar-interrupted, .progress-bar-interrupted::-webkit-progress-bar {\n",
       "                background: #F44336;\n",
       "            }\n",
       "        </style>\n",
       "      <progress value='0' class='' max='15' style='width:300px; height:20px; vertical-align: middle;'></progress>\n",
       "      \n",
       "    </div>\n",
       "    \n"
      ],
      "text/plain": [
       "<IPython.core.display.HTML object>"
      ]
     },
     "metadata": {},
     "output_type": "display_data"
    },
    {
     "data": {
      "text/html": [],
      "text/plain": [
       "<IPython.core.display.HTML object>"
      ]
     },
     "metadata": {},
     "output_type": "display_data"
    },
    {
     "name": "stdout",
     "output_type": "stream",
     "text": [
      "9.871325731277466 sec\n",
      "--- swin model v23 ---\n",
      "Fold 0 results\n",
      "../input/petfinder-swin-models/models/v23/swin_model_fold_0.pkl\n"
     ]
    },
    {
     "data": {
      "text/html": [
       "\n",
       "    <div>\n",
       "        <style>\n",
       "            /* Turns off some styling */\n",
       "            progress {\n",
       "                /* gets rid of default border in Firefox and Opera. */\n",
       "                border: none;\n",
       "                /* Needs to be in here for Safari polyfill so background images work as expected. */\n",
       "                background-size: auto;\n",
       "            }\n",
       "            .progress-bar-interrupted, .progress-bar-interrupted::-webkit-progress-bar {\n",
       "                background: #F44336;\n",
       "            }\n",
       "        </style>\n",
       "      <progress value='0' class='' max='10' style='width:300px; height:20px; vertical-align: middle;'></progress>\n",
       "      \n",
       "    </div>\n",
       "    \n"
      ],
      "text/plain": [
       "<IPython.core.display.HTML object>"
      ]
     },
     "metadata": {},
     "output_type": "display_data"
    },
    {
     "data": {
      "text/html": [],
      "text/plain": [
       "<IPython.core.display.HTML object>"
      ]
     },
     "metadata": {},
     "output_type": "display_data"
    },
    {
     "name": "stdout",
     "output_type": "stream",
     "text": [
      "9.540814876556396 sec\n",
      "Fold 1 results\n",
      "../input/petfinder-swin-models/models/v23/swin_model_fold_1.pkl\n"
     ]
    },
    {
     "data": {
      "text/html": [
       "\n",
       "    <div>\n",
       "        <style>\n",
       "            /* Turns off some styling */\n",
       "            progress {\n",
       "                /* gets rid of default border in Firefox and Opera. */\n",
       "                border: none;\n",
       "                /* Needs to be in here for Safari polyfill so background images work as expected. */\n",
       "                background-size: auto;\n",
       "            }\n",
       "            .progress-bar-interrupted, .progress-bar-interrupted::-webkit-progress-bar {\n",
       "                background: #F44336;\n",
       "            }\n",
       "        </style>\n",
       "      <progress value='0' class='' max='10' style='width:300px; height:20px; vertical-align: middle;'></progress>\n",
       "      \n",
       "    </div>\n",
       "    \n"
      ],
      "text/plain": [
       "<IPython.core.display.HTML object>"
      ]
     },
     "metadata": {},
     "output_type": "display_data"
    },
    {
     "data": {
      "text/html": [],
      "text/plain": [
       "<IPython.core.display.HTML object>"
      ]
     },
     "metadata": {},
     "output_type": "display_data"
    },
    {
     "name": "stdout",
     "output_type": "stream",
     "text": [
      "9.570797681808472 sec\n",
      "Fold 2 results\n",
      "../input/petfinder-swin-models/models/v23/swin_model_fold_2.pkl\n"
     ]
    },
    {
     "data": {
      "text/html": [
       "\n",
       "    <div>\n",
       "        <style>\n",
       "            /* Turns off some styling */\n",
       "            progress {\n",
       "                /* gets rid of default border in Firefox and Opera. */\n",
       "                border: none;\n",
       "                /* Needs to be in here for Safari polyfill so background images work as expected. */\n",
       "                background-size: auto;\n",
       "            }\n",
       "            .progress-bar-interrupted, .progress-bar-interrupted::-webkit-progress-bar {\n",
       "                background: #F44336;\n",
       "            }\n",
       "        </style>\n",
       "      <progress value='0' class='' max='10' style='width:300px; height:20px; vertical-align: middle;'></progress>\n",
       "      \n",
       "    </div>\n",
       "    \n"
      ],
      "text/plain": [
       "<IPython.core.display.HTML object>"
      ]
     },
     "metadata": {},
     "output_type": "display_data"
    },
    {
     "data": {
      "text/html": [],
      "text/plain": [
       "<IPython.core.display.HTML object>"
      ]
     },
     "metadata": {},
     "output_type": "display_data"
    },
    {
     "name": "stdout",
     "output_type": "stream",
     "text": [
      "9.626376628875732 sec\n",
      "Fold 3 results\n",
      "../input/petfinder-swin-models/models/v23/swin_model_fold_3.pkl\n"
     ]
    },
    {
     "data": {
      "text/html": [
       "\n",
       "    <div>\n",
       "        <style>\n",
       "            /* Turns off some styling */\n",
       "            progress {\n",
       "                /* gets rid of default border in Firefox and Opera. */\n",
       "                border: none;\n",
       "                /* Needs to be in here for Safari polyfill so background images work as expected. */\n",
       "                background-size: auto;\n",
       "            }\n",
       "            .progress-bar-interrupted, .progress-bar-interrupted::-webkit-progress-bar {\n",
       "                background: #F44336;\n",
       "            }\n",
       "        </style>\n",
       "      <progress value='0' class='' max='10' style='width:300px; height:20px; vertical-align: middle;'></progress>\n",
       "      \n",
       "    </div>\n",
       "    \n"
      ],
      "text/plain": [
       "<IPython.core.display.HTML object>"
      ]
     },
     "metadata": {},
     "output_type": "display_data"
    },
    {
     "data": {
      "text/html": [],
      "text/plain": [
       "<IPython.core.display.HTML object>"
      ]
     },
     "metadata": {},
     "output_type": "display_data"
    },
    {
     "name": "stdout",
     "output_type": "stream",
     "text": [
      "9.402438879013062 sec\n",
      "Fold 4 results\n",
      "../input/petfinder-swin-models/models/v23/swin_model_fold_4.pkl\n"
     ]
    },
    {
     "data": {
      "text/html": [
       "\n",
       "    <div>\n",
       "        <style>\n",
       "            /* Turns off some styling */\n",
       "            progress {\n",
       "                /* gets rid of default border in Firefox and Opera. */\n",
       "                border: none;\n",
       "                /* Needs to be in here for Safari polyfill so background images work as expected. */\n",
       "                background-size: auto;\n",
       "            }\n",
       "            .progress-bar-interrupted, .progress-bar-interrupted::-webkit-progress-bar {\n",
       "                background: #F44336;\n",
       "            }\n",
       "        </style>\n",
       "      <progress value='0' class='' max='10' style='width:300px; height:20px; vertical-align: middle;'></progress>\n",
       "      \n",
       "    </div>\n",
       "    \n"
      ],
      "text/plain": [
       "<IPython.core.display.HTML object>"
      ]
     },
     "metadata": {},
     "output_type": "display_data"
    },
    {
     "data": {
      "text/html": [],
      "text/plain": [
       "<IPython.core.display.HTML object>"
      ]
     },
     "metadata": {},
     "output_type": "display_data"
    },
    {
     "name": "stdout",
     "output_type": "stream",
     "text": [
      "9.946954727172852 sec\n",
      "Fold 5 results\n",
      "../input/petfinder-swin-models/models/v23/swin_model_fold_5.pkl\n"
     ]
    },
    {
     "data": {
      "text/html": [
       "\n",
       "    <div>\n",
       "        <style>\n",
       "            /* Turns off some styling */\n",
       "            progress {\n",
       "                /* gets rid of default border in Firefox and Opera. */\n",
       "                border: none;\n",
       "                /* Needs to be in here for Safari polyfill so background images work as expected. */\n",
       "                background-size: auto;\n",
       "            }\n",
       "            .progress-bar-interrupted, .progress-bar-interrupted::-webkit-progress-bar {\n",
       "                background: #F44336;\n",
       "            }\n",
       "        </style>\n",
       "      <progress value='0' class='' max='10' style='width:300px; height:20px; vertical-align: middle;'></progress>\n",
       "      \n",
       "    </div>\n",
       "    \n"
      ],
      "text/plain": [
       "<IPython.core.display.HTML object>"
      ]
     },
     "metadata": {},
     "output_type": "display_data"
    },
    {
     "data": {
      "text/html": [],
      "text/plain": [
       "<IPython.core.display.HTML object>"
      ]
     },
     "metadata": {},
     "output_type": "display_data"
    },
    {
     "name": "stdout",
     "output_type": "stream",
     "text": [
      "10.1623854637146 sec\n",
      "--- swin model mixup ---\n",
      "Fold 0 results\n",
      "../input/petfinder-swin-mixup-models/mixup/swin_model_fold_0.pkl\n"
     ]
    },
    {
     "data": {
      "text/html": [
       "\n",
       "    <div>\n",
       "        <style>\n",
       "            /* Turns off some styling */\n",
       "            progress {\n",
       "                /* gets rid of default border in Firefox and Opera. */\n",
       "                border: none;\n",
       "                /* Needs to be in here for Safari polyfill so background images work as expected. */\n",
       "                background-size: auto;\n",
       "            }\n",
       "            .progress-bar-interrupted, .progress-bar-interrupted::-webkit-progress-bar {\n",
       "                background: #F44336;\n",
       "            }\n",
       "        </style>\n",
       "      <progress value='0' class='' max='10' style='width:300px; height:20px; vertical-align: middle;'></progress>\n",
       "      \n",
       "    </div>\n",
       "    \n"
      ],
      "text/plain": [
       "<IPython.core.display.HTML object>"
      ]
     },
     "metadata": {},
     "output_type": "display_data"
    },
    {
     "data": {
      "text/html": [],
      "text/plain": [
       "<IPython.core.display.HTML object>"
      ]
     },
     "metadata": {},
     "output_type": "display_data"
    },
    {
     "name": "stdout",
     "output_type": "stream",
     "text": [
      "9.83319616317749 sec\n",
      "Fold 1 results\n",
      "../input/petfinder-swin-mixup-models/mixup/swin_model_fold_1.pkl\n"
     ]
    },
    {
     "data": {
      "text/html": [
       "\n",
       "    <div>\n",
       "        <style>\n",
       "            /* Turns off some styling */\n",
       "            progress {\n",
       "                /* gets rid of default border in Firefox and Opera. */\n",
       "                border: none;\n",
       "                /* Needs to be in here for Safari polyfill so background images work as expected. */\n",
       "                background-size: auto;\n",
       "            }\n",
       "            .progress-bar-interrupted, .progress-bar-interrupted::-webkit-progress-bar {\n",
       "                background: #F44336;\n",
       "            }\n",
       "        </style>\n",
       "      <progress value='0' class='' max='10' style='width:300px; height:20px; vertical-align: middle;'></progress>\n",
       "      \n",
       "    </div>\n",
       "    \n"
      ],
      "text/plain": [
       "<IPython.core.display.HTML object>"
      ]
     },
     "metadata": {},
     "output_type": "display_data"
    },
    {
     "data": {
      "text/html": [],
      "text/plain": [
       "<IPython.core.display.HTML object>"
      ]
     },
     "metadata": {},
     "output_type": "display_data"
    },
    {
     "name": "stdout",
     "output_type": "stream",
     "text": [
      "10.071683168411255 sec\n",
      "Fold 2 results\n",
      "../input/petfinder-swin-mixup-models/mixup/swin_model_fold_2.pkl\n"
     ]
    },
    {
     "data": {
      "text/html": [
       "\n",
       "    <div>\n",
       "        <style>\n",
       "            /* Turns off some styling */\n",
       "            progress {\n",
       "                /* gets rid of default border in Firefox and Opera. */\n",
       "                border: none;\n",
       "                /* Needs to be in here for Safari polyfill so background images work as expected. */\n",
       "                background-size: auto;\n",
       "            }\n",
       "            .progress-bar-interrupted, .progress-bar-interrupted::-webkit-progress-bar {\n",
       "                background: #F44336;\n",
       "            }\n",
       "        </style>\n",
       "      <progress value='0' class='' max='10' style='width:300px; height:20px; vertical-align: middle;'></progress>\n",
       "      \n",
       "    </div>\n",
       "    \n"
      ],
      "text/plain": [
       "<IPython.core.display.HTML object>"
      ]
     },
     "metadata": {},
     "output_type": "display_data"
    },
    {
     "data": {
      "text/html": [],
      "text/plain": [
       "<IPython.core.display.HTML object>"
      ]
     },
     "metadata": {},
     "output_type": "display_data"
    },
    {
     "name": "stdout",
     "output_type": "stream",
     "text": [
      "10.294804811477661 sec\n",
      "Fold 3 results\n",
      "../input/petfinder-swin-mixup-models/mixup/swin_model_fold_3.pkl\n"
     ]
    },
    {
     "data": {
      "text/html": [
       "\n",
       "    <div>\n",
       "        <style>\n",
       "            /* Turns off some styling */\n",
       "            progress {\n",
       "                /* gets rid of default border in Firefox and Opera. */\n",
       "                border: none;\n",
       "                /* Needs to be in here for Safari polyfill so background images work as expected. */\n",
       "                background-size: auto;\n",
       "            }\n",
       "            .progress-bar-interrupted, .progress-bar-interrupted::-webkit-progress-bar {\n",
       "                background: #F44336;\n",
       "            }\n",
       "        </style>\n",
       "      <progress value='0' class='' max='10' style='width:300px; height:20px; vertical-align: middle;'></progress>\n",
       "      \n",
       "    </div>\n",
       "    \n"
      ],
      "text/plain": [
       "<IPython.core.display.HTML object>"
      ]
     },
     "metadata": {},
     "output_type": "display_data"
    },
    {
     "data": {
      "text/html": [],
      "text/plain": [
       "<IPython.core.display.HTML object>"
      ]
     },
     "metadata": {},
     "output_type": "display_data"
    },
    {
     "name": "stdout",
     "output_type": "stream",
     "text": [
      "9.766517877578735 sec\n",
      "Fold 4 results\n",
      "../input/petfinder-swin-mixup-models/mixup/swin_model_fold_4.pkl\n"
     ]
    },
    {
     "data": {
      "text/html": [
       "\n",
       "    <div>\n",
       "        <style>\n",
       "            /* Turns off some styling */\n",
       "            progress {\n",
       "                /* gets rid of default border in Firefox and Opera. */\n",
       "                border: none;\n",
       "                /* Needs to be in here for Safari polyfill so background images work as expected. */\n",
       "                background-size: auto;\n",
       "            }\n",
       "            .progress-bar-interrupted, .progress-bar-interrupted::-webkit-progress-bar {\n",
       "                background: #F44336;\n",
       "            }\n",
       "        </style>\n",
       "      <progress value='0' class='' max='10' style='width:300px; height:20px; vertical-align: middle;'></progress>\n",
       "      \n",
       "    </div>\n",
       "    \n"
      ],
      "text/plain": [
       "<IPython.core.display.HTML object>"
      ]
     },
     "metadata": {},
     "output_type": "display_data"
    },
    {
     "data": {
      "text/html": [],
      "text/plain": [
       "<IPython.core.display.HTML object>"
      ]
     },
     "metadata": {},
     "output_type": "display_data"
    },
    {
     "name": "stdout",
     "output_type": "stream",
     "text": [
      "9.813615798950195 sec\n",
      "Fold 5 results\n",
      "../input/petfinder-swin-mixup-models/mixup/swin_model_fold_5.pkl\n"
     ]
    },
    {
     "data": {
      "text/html": [
       "\n",
       "    <div>\n",
       "        <style>\n",
       "            /* Turns off some styling */\n",
       "            progress {\n",
       "                /* gets rid of default border in Firefox and Opera. */\n",
       "                border: none;\n",
       "                /* Needs to be in here for Safari polyfill so background images work as expected. */\n",
       "                background-size: auto;\n",
       "            }\n",
       "            .progress-bar-interrupted, .progress-bar-interrupted::-webkit-progress-bar {\n",
       "                background: #F44336;\n",
       "            }\n",
       "        </style>\n",
       "      <progress value='0' class='' max='10' style='width:300px; height:20px; vertical-align: middle;'></progress>\n",
       "      \n",
       "    </div>\n",
       "    \n"
      ],
      "text/plain": [
       "<IPython.core.display.HTML object>"
      ]
     },
     "metadata": {},
     "output_type": "display_data"
    },
    {
     "data": {
      "text/html": [],
      "text/plain": [
       "<IPython.core.display.HTML object>"
      ]
     },
     "metadata": {},
     "output_type": "display_data"
    },
    {
     "name": "stdout",
     "output_type": "stream",
     "text": [
      "9.962904453277588 sec\n"
     ]
    }
   ],
   "source": [
    "from typing import List\n",
    "\n",
    "model_versions: List[str] = ['v18', 'v23', 'mixup']\n",
    "#model_versions: List[str] = ['v18', 'mixup']\n",
    "#model_versions: List[str] = ['v18']\n",
    "swin_val_preds: List[pd.DataFrame] = [pd.DataFrame()]*len(model_versions)\n",
    "swin_test_preds: List[np.ndarray] = [np.zeros(test.shape[0])]*len(model_versions)\n",
    "\n",
    "\n",
    "MAKE_META_TRAIN = False\n",
    "\n",
    "for i in range(len(model_versions)):\n",
    "    print(f'--- swin model {model_versions[i]} ---')\n",
    "    for f in range(N_FOLDS):\n",
    "        start = time()\n",
    "        print(f'Fold {f} results')\n",
    "        model_basedir = 'petfinder-swin-models/models' if i != 2 else 'petfinder-swin-mixup-models'\n",
    "        model_name = f'../input/{model_basedir}/{model_versions[i]}/swin_model_fold_{f}.pkl'\n",
    "        print(model_name)\n",
    "        learn = load_learner(model_name, cpu=False)\n",
    "\n",
    "        dls = ImageDataLoaders.from_df(\n",
    "            train, #pass in train DataFrame\n",
    "            #valid_pct=0.2, #80-20 train-validation random split\n",
    "            seed=seed, #seed\n",
    "            fn_col='path', #filename/path is in the second column of the DataFrame\n",
    "            label_col='norm_score', #label is in the first column of the DataFrame\n",
    "            y_block=RegressionBlock, #The type of target\n",
    "            bs=BATCH_SIZE, #pass in batch size\n",
    "            num_workers=8,\n",
    "            item_tfms=Resize(224), #pass in item_tfms\n",
    "            batch_tfms=setup_aug_tfms([Dihedral(), Brightness(), Contrast(), Hue(), Saturation()])\n",
    "        )\n",
    "        \n",
    "        tta_n = 5\n",
    "        tta_beta = 0.25\n",
    "        \n",
    "        if MAKE_META_TRAIN:\n",
    "            val_df = train[train['fold'] == f].copy()\n",
    "            val_dl = dls.test_dl(val_df)\n",
    "            #val_preds, _ = learn.get_preds(dl=val_dl)\n",
    "            val_preds, _ = learn.tta(dl=val_dl, n=tta_n, beta=tta_beta)\n",
    "            oof_preds = val_df[['fold', 'Pawpularity']].copy()\n",
    "            oof_preds['pred'] = val_preds.cpu().numpy().ravel()*100\n",
    "            swin_val_preds[i] = pd.concat([swin_val_preds[i], oof_preds])\n",
    "\n",
    "        test_dl = dls.test_dl(test)\n",
    "        #test_preds, _ = learn.get_preds(dl=test_dl)\n",
    "        test_preds, _ = learn.tta(dl=test_dl, n=tta_n, beta=tta_beta)\n",
    "        tmp_test_preds = test_preds.cpu().numpy().ravel()*100\n",
    "        swin_test_preds[i] = swin_test_preds[i] + tmp_test_preds / N_FOLDS\n",
    "\n",
    "        end = time()\n",
    "        print(f'{end - start} sec')\n",
    "\n",
    "        del learn\n",
    "        torch.cuda.empty_cache()\n",
    "        gc.collect()"
   ]
  },
  {
   "cell_type": "code",
   "execution_count": 9,
   "id": "cc08c927",
   "metadata": {
    "execution": {
     "iopub.execute_input": "2022-01-14T06:33:09.458838Z",
     "iopub.status.busy": "2022-01-14T06:33:09.457257Z",
     "iopub.status.idle": "2022-01-14T06:33:09.460988Z",
     "shell.execute_reply": "2022-01-14T06:33:09.460370Z",
     "shell.execute_reply.started": "2022-01-14T06:26:38.220437Z"
    },
    "papermill": {
     "duration": 0.043251,
     "end_time": "2022-01-14T06:33:09.461133",
     "exception": false,
     "start_time": "2022-01-14T06:33:09.417882",
     "status": "completed"
    },
    "tags": []
   },
   "outputs": [
    {
     "name": "stdout",
     "output_type": "stream",
     "text": [
      "3 3\n"
     ]
    }
   ],
   "source": [
    "print(len(swin_val_preds), len(swin_test_preds))\n",
    "\n",
    "for i in range(len(swin_val_preds)):\n",
    "    if MAKE_META_TRAIN:\n",
    "        swin_val_preds[i] = swin_val_preds[i].sort_index()"
   ]
  },
  {
   "cell_type": "code",
   "execution_count": 10,
   "id": "253c049d",
   "metadata": {
    "execution": {
     "iopub.execute_input": "2022-01-14T06:33:09.538332Z",
     "iopub.status.busy": "2022-01-14T06:33:09.537547Z",
     "iopub.status.idle": "2022-01-14T06:33:09.539590Z",
     "shell.execute_reply": "2022-01-14T06:33:09.539966Z",
     "shell.execute_reply.started": "2022-01-14T06:26:41.917463Z"
    },
    "papermill": {
     "duration": 0.043133,
     "end_time": "2022-01-14T06:33:09.540092",
     "exception": false,
     "start_time": "2022-01-14T06:33:09.496959",
     "status": "completed"
    },
    "tags": []
   },
   "outputs": [],
   "source": [
    "def rmse_oof(_oof_df:pd.DataFrame, fold:int=None):\n",
    "    oof_df = _oof_df.copy()\n",
    "    if fold is not None:\n",
    "        oof_df = oof_df[oof_df[\"fold\"] == fold]\n",
    "    target = oof_df['Pawpularity'].values\n",
    "    y_pred = oof_df['pred'].values\n",
    "    #if fold is not None:\n",
    "    #    print(f'fold {fold}: {petfinder_rmse(y_pred, target)}')\n",
    "    if fold is not None:\n",
    "        print(f'fold {fold}: {mean_squared_error(target, y_pred, squared=False)}')\n",
    "    else:\n",
    "        print(f'overall: {mean_squared_error(target, y_pred, squared=False)}')"
   ]
  },
  {
   "cell_type": "code",
   "execution_count": 11,
   "id": "ee5a7ccd",
   "metadata": {
    "execution": {
     "iopub.execute_input": "2022-01-14T06:33:09.615458Z",
     "iopub.status.busy": "2022-01-14T06:33:09.613903Z",
     "iopub.status.idle": "2022-01-14T06:33:09.616072Z",
     "shell.execute_reply": "2022-01-14T06:33:09.616467Z",
     "shell.execute_reply.started": "2022-01-14T06:26:44.744483Z"
    },
    "papermill": {
     "duration": 0.042048,
     "end_time": "2022-01-14T06:33:09.616612",
     "exception": false,
     "start_time": "2022-01-14T06:33:09.574564",
     "status": "completed"
    },
    "tags": []
   },
   "outputs": [],
   "source": [
    "if MAKE_META_TRAIN:\n",
    "    for i in range(len(model_versions)):\n",
    "        print(f'--- rmse {model_versions[i]} ---')\n",
    "        for f in range(N_FOLDS):\n",
    "            rmse_oof(swin_val_preds[i], f)\n",
    "        rmse_oof(swin_val_preds[i])"
   ]
  },
  {
   "cell_type": "markdown",
   "id": "0c15310f",
   "metadata": {
    "papermill": {
     "duration": 0.034644,
     "end_time": "2022-01-14T06:33:09.686012",
     "exception": false,
     "start_time": "2022-01-14T06:33:09.651368",
     "status": "completed"
    },
    "tags": []
   },
   "source": [
    "**Meta Model**"
   ]
  },
  {
   "cell_type": "code",
   "execution_count": 12,
   "id": "2f2544f7",
   "metadata": {
    "execution": {
     "iopub.execute_input": "2022-01-14T06:33:09.761901Z",
     "iopub.status.busy": "2022-01-14T06:33:09.761203Z",
     "iopub.status.idle": "2022-01-14T06:33:09.794556Z",
     "shell.execute_reply": "2022-01-14T06:33:09.795082Z",
     "shell.execute_reply.started": "2022-01-14T06:27:29.036134Z"
    },
    "papermill": {
     "duration": 0.075044,
     "end_time": "2022-01-14T06:33:09.795217",
     "exception": false,
     "start_time": "2022-01-14T06:33:09.720173",
     "status": "completed"
    },
    "tags": []
   },
   "outputs": [
    {
     "name": "stdout",
     "output_type": "stream",
     "text": [
      "meta_train file: ../input/petfinder-meta-train2/meta_train/meta_train_tta_n5b025.csv\n"
     ]
    },
    {
     "data": {
      "text/html": [
       "<div>\n",
       "<style scoped>\n",
       "    .dataframe tbody tr th:only-of-type {\n",
       "        vertical-align: middle;\n",
       "    }\n",
       "\n",
       "    .dataframe tbody tr th {\n",
       "        vertical-align: top;\n",
       "    }\n",
       "\n",
       "    .dataframe thead th {\n",
       "        text-align: right;\n",
       "    }\n",
       "</style>\n",
       "<table border=\"1\" class=\"dataframe\">\n",
       "  <thead>\n",
       "    <tr style=\"text-align: right;\">\n",
       "      <th></th>\n",
       "      <th>swin_v18</th>\n",
       "      <th>swin_mixup</th>\n",
       "    </tr>\n",
       "  </thead>\n",
       "  <tbody>\n",
       "    <tr>\n",
       "      <th>0</th>\n",
       "      <td>36.831020</td>\n",
       "      <td>39.392727</td>\n",
       "    </tr>\n",
       "    <tr>\n",
       "      <th>1</th>\n",
       "      <td>43.571518</td>\n",
       "      <td>41.662136</td>\n",
       "    </tr>\n",
       "    <tr>\n",
       "      <th>2</th>\n",
       "      <td>34.644890</td>\n",
       "      <td>34.373917</td>\n",
       "    </tr>\n",
       "    <tr>\n",
       "      <th>3</th>\n",
       "      <td>23.915410</td>\n",
       "      <td>30.258919</td>\n",
       "    </tr>\n",
       "    <tr>\n",
       "      <th>4</th>\n",
       "      <td>32.276900</td>\n",
       "      <td>32.968754</td>\n",
       "    </tr>\n",
       "    <tr>\n",
       "      <th>...</th>\n",
       "      <td>...</td>\n",
       "      <td>...</td>\n",
       "    </tr>\n",
       "    <tr>\n",
       "      <th>9907</th>\n",
       "      <td>46.097027</td>\n",
       "      <td>46.701380</td>\n",
       "    </tr>\n",
       "    <tr>\n",
       "      <th>9908</th>\n",
       "      <td>51.588608</td>\n",
       "      <td>45.092804</td>\n",
       "    </tr>\n",
       "    <tr>\n",
       "      <th>9909</th>\n",
       "      <td>25.343414</td>\n",
       "      <td>31.874544</td>\n",
       "    </tr>\n",
       "    <tr>\n",
       "      <th>9910</th>\n",
       "      <td>34.999970</td>\n",
       "      <td>32.079643</td>\n",
       "    </tr>\n",
       "    <tr>\n",
       "      <th>9911</th>\n",
       "      <td>48.823357</td>\n",
       "      <td>42.500640</td>\n",
       "    </tr>\n",
       "  </tbody>\n",
       "</table>\n",
       "<p>9912 rows × 2 columns</p>\n",
       "</div>"
      ],
      "text/plain": [
       "       swin_v18  swin_mixup\n",
       "0     36.831020   39.392727\n",
       "1     43.571518   41.662136\n",
       "2     34.644890   34.373917\n",
       "3     23.915410   30.258919\n",
       "4     32.276900   32.968754\n",
       "...         ...         ...\n",
       "9907  46.097027   46.701380\n",
       "9908  51.588608   45.092804\n",
       "9909  25.343414   31.874544\n",
       "9910  34.999970   32.079643\n",
       "9911  48.823357   42.500640\n",
       "\n",
       "[9912 rows x 2 columns]"
      ]
     },
     "execution_count": 12,
     "metadata": {},
     "output_type": "execute_result"
    }
   ],
   "source": [
    "if MAKE_META_TRAIN:\n",
    "    meta_train = pd.DataFrame({\n",
    "        'swin_v18': swin_val_preds[0]['pred'],\n",
    "        'swin_v23': swin_val_preds[1]['pred'],\n",
    "        'swin_mixup': swin_val_preds[2]['pred']\n",
    "    })\n",
    "    meta_train.to_csv('meta_train.csv', index=False)\n",
    "else:\n",
    "    meta_train_path = f'../input/petfinder-meta-train2/meta_train/meta_train_tta_n5b025.csv'\n",
    "    print(f'meta_train file: {meta_train_path}')\n",
    "    meta_train = pd.read_csv(meta_train_path)\n",
    "\n",
    "meta_test = pd.DataFrame({\n",
    "    'swin_v18': swin_test_preds[0],\n",
    "    'swin_v23': swin_test_preds[1],\n",
    "    'swin_mixup': swin_test_preds[2]\n",
    "})\n",
    "\n",
    "meta_train = meta_train.drop(columns=['swin_v23'])\n",
    "meta_test = meta_test.drop(columns=['swin_v23'])\n",
    "meta_train\n",
    "#meta_test"
   ]
  },
  {
   "cell_type": "code",
   "execution_count": 13,
   "id": "280f372a",
   "metadata": {
    "execution": {
     "iopub.execute_input": "2022-01-14T06:33:09.874665Z",
     "iopub.status.busy": "2022-01-14T06:33:09.874072Z",
     "iopub.status.idle": "2022-01-14T06:33:10.080218Z",
     "shell.execute_reply": "2022-01-14T06:33:10.081139Z",
     "shell.execute_reply.started": "2022-01-14T06:28:25.786287Z"
    },
    "papermill": {
     "duration": 0.250135,
     "end_time": "2022-01-14T06:33:10.081315",
     "exception": false,
     "start_time": "2022-01-14T06:33:09.831180",
     "status": "completed"
    },
    "tags": []
   },
   "outputs": [
    {
     "name": "stdout",
     "output_type": "stream",
     "text": [
      "[0.55438651 0.49701719] -2.1959375568624964\n",
      "[0.56851489 0.49530841] -2.4435393697837995\n",
      "[0.59325103 0.48217011] -3.006665576450928\n",
      "[0.57025723 0.49294301] -2.5610553359371693\n",
      "[0.59335999 0.42538839] -1.1471921308732078\n",
      "RMSE loss: 17.589700529788367\n",
      "[37.10527974 38.48773059 38.39492267 38.75688029 38.09511714 38.92323222\n",
      " 38.76892699 38.84647268]\n"
     ]
    }
   ],
   "source": [
    "model = None\n",
    "test_preds = None\n",
    "\n",
    "from sklearn.linear_model import Ridge\n",
    "from sklearn.model_selection import KFold\n",
    "\n",
    "n_splits = 5\n",
    "kfold = KFold(n_splits=n_splits, shuffle=True, random_state=seed)\n",
    "oof_preds = np.zeros(train.shape[0])\n",
    "final_test_preds = np.zeros(test.shape[0])\n",
    "\n",
    "for trn_idx, val_idx in kfold.split(meta_train):\n",
    "    X_train, X_val = meta_train.iloc[trn_idx], meta_train.iloc[val_idx]\n",
    "    y_train, y_val = train.iloc[trn_idx]['Pawpularity'], train.iloc[val_idx]['Pawpularity']\n",
    "    \n",
    "    meta_model = Ridge(alpha=100.0)\n",
    "    meta_model.fit(X_train, y_train)\n",
    "    print(meta_model.coef_, meta_model.intercept_)\n",
    "    \n",
    "    oof_preds[val_idx] = meta_model.predict(X_val)\n",
    "    final_test_preds += meta_model.predict(meta_test)/n_splits\n",
    "    \n",
    "loss = mean_squared_error(train['Pawpularity'], oof_preds, squared=False)\n",
    "print(f'RMSE loss: {loss}')\n",
    "print(final_test_preds)"
   ]
  },
  {
   "cell_type": "code",
   "execution_count": 14,
   "id": "25902592",
   "metadata": {
    "execution": {
     "iopub.execute_input": "2022-01-14T06:33:10.158927Z",
     "iopub.status.busy": "2022-01-14T06:33:10.158367Z",
     "iopub.status.idle": "2022-01-14T06:33:10.168385Z",
     "shell.execute_reply": "2022-01-14T06:33:10.167944Z",
     "shell.execute_reply.started": "2022-01-14T06:28:30.021622Z"
    },
    "papermill": {
     "duration": 0.050176,
     "end_time": "2022-01-14T06:33:10.168498",
     "exception": false,
     "start_time": "2022-01-14T06:33:10.118322",
     "status": "completed"
    },
    "tags": []
   },
   "outputs": [],
   "source": [
    "sample_df = pd.read_csv(dataset_path/'sample_submission.csv')\n",
    "sample_df['Pawpularity'] = final_test_preds\n",
    "sample_df.to_csv('submission.csv',index=False)"
   ]
  },
  {
   "cell_type": "code",
   "execution_count": 15,
   "id": "9eedb90b",
   "metadata": {
    "execution": {
     "iopub.execute_input": "2022-01-14T06:33:10.250060Z",
     "iopub.status.busy": "2022-01-14T06:33:10.242395Z",
     "iopub.status.idle": "2022-01-14T06:33:10.265458Z",
     "shell.execute_reply": "2022-01-14T06:33:10.263107Z",
     "shell.execute_reply.started": "2022-01-14T06:28:32.335394Z"
    },
    "papermill": {
     "duration": 0.061088,
     "end_time": "2022-01-14T06:33:10.265647",
     "exception": false,
     "start_time": "2022-01-14T06:33:10.204559",
     "status": "completed"
    },
    "tags": []
   },
   "outputs": [
    {
     "data": {
      "text/html": [
       "<div>\n",
       "<style scoped>\n",
       "    .dataframe tbody tr th:only-of-type {\n",
       "        vertical-align: middle;\n",
       "    }\n",
       "\n",
       "    .dataframe tbody tr th {\n",
       "        vertical-align: top;\n",
       "    }\n",
       "\n",
       "    .dataframe thead th {\n",
       "        text-align: right;\n",
       "    }\n",
       "</style>\n",
       "<table border=\"1\" class=\"dataframe\">\n",
       "  <thead>\n",
       "    <tr style=\"text-align: right;\">\n",
       "      <th></th>\n",
       "      <th>Id</th>\n",
       "      <th>Pawpularity</th>\n",
       "    </tr>\n",
       "  </thead>\n",
       "  <tbody>\n",
       "    <tr>\n",
       "      <th>0</th>\n",
       "      <td>4128bae22183829d2b5fea10effdb0c3</td>\n",
       "      <td>37.105280</td>\n",
       "    </tr>\n",
       "    <tr>\n",
       "      <th>1</th>\n",
       "      <td>43a2262d7738e3d420d453815151079e</td>\n",
       "      <td>38.487731</td>\n",
       "    </tr>\n",
       "    <tr>\n",
       "      <th>2</th>\n",
       "      <td>4e429cead1848a298432a0acad014c9d</td>\n",
       "      <td>38.394923</td>\n",
       "    </tr>\n",
       "    <tr>\n",
       "      <th>3</th>\n",
       "      <td>80bc3ccafcc51b66303c2c263aa38486</td>\n",
       "      <td>38.756880</td>\n",
       "    </tr>\n",
       "    <tr>\n",
       "      <th>4</th>\n",
       "      <td>8f49844c382931444e68dffbe20228f4</td>\n",
       "      <td>38.095117</td>\n",
       "    </tr>\n",
       "    <tr>\n",
       "      <th>5</th>\n",
       "      <td>b03f7041962238a7c9d6537e22f9b017</td>\n",
       "      <td>38.923232</td>\n",
       "    </tr>\n",
       "    <tr>\n",
       "      <th>6</th>\n",
       "      <td>c978013571258ed6d4637f6e8cc9d6a3</td>\n",
       "      <td>38.768927</td>\n",
       "    </tr>\n",
       "    <tr>\n",
       "      <th>7</th>\n",
       "      <td>e0de453c1bffc20c22b072b34b54e50f</td>\n",
       "      <td>38.846473</td>\n",
       "    </tr>\n",
       "  </tbody>\n",
       "</table>\n",
       "</div>"
      ],
      "text/plain": [
       "                                 Id  Pawpularity\n",
       "0  4128bae22183829d2b5fea10effdb0c3    37.105280\n",
       "1  43a2262d7738e3d420d453815151079e    38.487731\n",
       "2  4e429cead1848a298432a0acad014c9d    38.394923\n",
       "3  80bc3ccafcc51b66303c2c263aa38486    38.756880\n",
       "4  8f49844c382931444e68dffbe20228f4    38.095117\n",
       "5  b03f7041962238a7c9d6537e22f9b017    38.923232\n",
       "6  c978013571258ed6d4637f6e8cc9d6a3    38.768927\n",
       "7  e0de453c1bffc20c22b072b34b54e50f    38.846473"
      ]
     },
     "execution_count": 15,
     "metadata": {},
     "output_type": "execute_result"
    }
   ],
   "source": [
    "pd.read_csv('submission.csv')"
   ]
  }
 ],
 "metadata": {
  "kernelspec": {
   "display_name": "Python 3",
   "language": "python",
   "name": "python3"
  },
  "language_info": {
   "codemirror_mode": {
    "name": "ipython",
    "version": 3
   },
   "file_extension": ".py",
   "mimetype": "text/x-python",
   "name": "python",
   "nbconvert_exporter": "python",
   "pygments_lexer": "ipython3",
   "version": "3.7.12"
  },
  "papermill": {
   "default_parameters": {},
   "duration": 210.389105,
   "end_time": "2022-01-14T06:33:12.929758",
   "environment_variables": {},
   "exception": null,
   "input_path": "__notebook__.ipynb",
   "output_path": "__notebook__.ipynb",
   "parameters": {},
   "start_time": "2022-01-14T06:29:42.540653",
   "version": "2.3.3"
  }
 },
 "nbformat": 4,
 "nbformat_minor": 5
}
